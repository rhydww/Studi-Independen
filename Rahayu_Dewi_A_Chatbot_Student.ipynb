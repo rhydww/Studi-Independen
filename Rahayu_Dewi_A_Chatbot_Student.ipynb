{
  "cells": [
    {
      "cell_type": "markdown",
      "metadata": {
        "id": "view-in-github",
        "colab_type": "text"
      },
      "source": [
        "<a href=\"https://colab.research.google.com/github/rhydww/Studi-Independen/blob/Tugas/Rahayu_Dewi_A_Chatbot_Student.ipynb\" target=\"_parent\"><img src=\"https://colab.research.google.com/assets/colab-badge.svg\" alt=\"Open In Colab\"/></a>"
      ]
    },
    {
      "cell_type": "markdown",
      "id": "d18e160a",
      "metadata": {
        "id": "d18e160a"
      },
      "source": [
        "# **Chatbot With Neural Network**\n",
        "\n",
        "<b>Chatbot</b> merupakan bagian dari Natural Language Processing yang digunakan untuk percakapan dengan pengguna melalui teks dan ucapan. Pada praktik hari ini kita akan membuat sebuah chat otomatis atau chatbot tentang program Kampus Merdeka dari Kementerian Pendidikan Kebudayaan Riset dan Teknologi (KEMENDIKBUDRISTEK). \n",
        "\n",
        "Dalam tahapan Chatbot ini ada tahapan yang harus kita perhatikan yaitu,\n",
        "\n",
        "1. Import Library\n",
        "2. Load Dataset\n",
        "3. Preprocessing Data\n",
        "4. Input Length, Output Length and Vocabulary\n",
        "5. Neural Network Model\n",
        "6. Model Analysis\n",
        "7. Testing\n",
        "8. Save Model\n",
        "\n",
        "Dalam proyek ini, kita akan membuat chatbot tentang program Kampus Merdeka!\n",
        "\n",
        "Sumber code: [Medium - Going Merry With Tensorflow 2.0](https://medium.com/analytics-vidhya/chatbot-with-tensorflow-2-0-going-merry-2f79284a6104)"
      ]
    },
    {
      "cell_type": "markdown",
      "source": [
        "## **Download Dataset From GitHub**\n",
        "\n",
        "Setelah kita mengetahui apa saja alur yang digunakan untuk membuat proyek AI Chatbot maka tahapan selanjutnya adalah mengunduh atau download dataset dari GitHub milik Fendy Hendriyanto pada bagian repository AI Chatbot. Link: [Chatbot-AI](https://github.com/fendy07/chatbot-AI)"
      ],
      "metadata": {
        "id": "xaowz3BO9B8l"
      },
      "id": "xaowz3BO9B8l"
    },
    {
      "cell_type": "code",
      "source": [
        "# Download kampus_merdeka.json\n",
        "from urllib import request\n",
        "url = \"https://raw.githubusercontent.com/fendy07/chatbot-AI/master/kampus_merdeka.json\"\n",
        "request.urlretrieve(url, \"kampus_merdeka.json\")"
      ],
      "metadata": {
        "colab": {
          "base_uri": "https://localhost:8080/"
        },
        "id": "QEn68nGv9k5e",
        "outputId": "fba31437-548b-48ab-c632-6d74eea3cd55"
      },
      "id": "QEn68nGv9k5e",
      "execution_count": null,
      "outputs": [
        {
          "output_type": "execute_result",
          "data": {
            "text/plain": [
              "('kampus_merdeka.json', <http.client.HTTPMessage at 0x7f14dac58b90>)"
            ]
          },
          "metadata": {},
          "execution_count": 27
        }
      ]
    },
    {
      "cell_type": "markdown",
      "source": [
        "# **Load Google Drive**\n",
        "\n",
        "Setelah kita mengunduh dataset dengan library request url dari link yang kita ketahui maka kita akan menyimpan file data yang kita download di Google Drive dengan dengan cara klik pada menu \"**Mount Drive**\" maka akan keluar code dibawah ini.\n",
        "\n",
        "**Notes:** Mohon dirunning terlebih dahulu\n"
      ],
      "metadata": {
        "id": "QRVBAWzMXnGf"
      },
      "id": "QRVBAWzMXnGf"
    },
    {
      "cell_type": "code",
      "source": [
        "from google.colab import drive\n",
        "drive.mount('/content/drive')"
      ],
      "metadata": {
        "colab": {
          "base_uri": "https://localhost:8080/"
        },
        "id": "kXBRl7ZqXlGD",
        "outputId": "7bb46283-8de6-4dbb-e1ff-8b6d86fe53d6"
      },
      "id": "kXBRl7ZqXlGD",
      "execution_count": null,
      "outputs": [
        {
          "output_type": "stream",
          "name": "stdout",
          "text": [
            "Drive already mounted at /content/drive; to attempt to forcibly remount, call drive.mount(\"/content/drive\", force_remount=True).\n"
          ]
        }
      ]
    },
    {
      "cell_type": "markdown",
      "source": [
        "Setelah dirunning maka ada notifikasi untuk **Permit this notebook to your access Google Drive** lalu pilih izinkan dan akan diproses ke dalam login akun google kita dan pilih izinkan dan akan keluar seperti gambar dibawah ini.\n",
        "\n",
        "![image.png](data:image/png;base64,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)"
      ],
      "metadata": {
        "id": "oJUGMIl6AnKl"
      },
      "id": "oJUGMIl6AnKl"
    },
    {
      "cell_type": "markdown",
      "source": [
        "## **Instalasi Library Pengenal Suara**\n",
        "\n",
        "Instalasi package sangat diperlukan ketika kita membutuhkan suatu fitur atau library yang akan kita gunakan. Pada proyek AI Chatbot membutuhkan package library yaitu **Speech Recognition** dan **Google Text To Speech** yang harus di install."
      ],
      "metadata": {
        "id": "9ZsdBYNrTfgg"
      },
      "id": "9ZsdBYNrTfgg"
    },
    {
      "cell_type": "code",
      "source": [
        "!pip -q install speechrecognition"
      ],
      "metadata": {
        "id": "Q2lOz2OmFhsz"
      },
      "id": "Q2lOz2OmFhsz",
      "execution_count": null,
      "outputs": []
    },
    {
      "cell_type": "code",
      "source": [
        "!pip -q install gtts"
      ],
      "metadata": {
        "id": "OcZ28yqJFcR8"
      },
      "id": "OcZ28yqJFcR8",
      "execution_count": null,
      "outputs": []
    },
    {
      "cell_type": "markdown",
      "source": [
        "# **Import Library**\n",
        "\n",
        "Tahapan pertama sebelum melakukan eksplorasi dan praproses pada data adalah memasukan library yang akan digunakan untuk menganalisa dataset dengan menggunakan metode Deep Learning seperti Neural Network dalam pengolahan teks, Chatbot dll. Library yang saya gunakan yaitu NumPy untuk komputasi matematika, Matplotlib untuk visualisasi model data, Natural Language Toolkit atau NLTK untuk pengolahan teks, Pandas untuk membaca data, serta Tensorflow untuk model pada data menggunakan algoritma LSTM dan Jaringan Syaraf Tiruan (Neural Network)."
      ],
      "metadata": {
        "id": "MZMVLNyqYTCK"
      },
      "id": "MZMVLNyqYTCK"
    },
    {
      "cell_type": "code",
      "execution_count": null,
      "id": "df6e6af3",
      "metadata": {
        "id": "df6e6af3"
      },
      "outputs": [],
      "source": [
        "# Import Libraries\n",
        "import json\n",
        "import nltk\n",
        "import time\n",
        "import random\n",
        "import string\n",
        "import pickle\n",
        "import numpy as np\n",
        "import pandas as pd\n",
        "from gtts import gTTS\n",
        "from io import BytesIO\n",
        "import tensorflow as tf\n",
        "import IPython.display as ipd\n",
        "import speech_recognition as sr \n",
        "import matplotlib.pyplot as plt\n",
        "from nltk.stem import WordNetLemmatizer\n",
        "from tensorflow.keras.models import Model\n",
        "from keras.utils.vis_utils import plot_model\n",
        "from sklearn.preprocessing import LabelEncoder\n",
        "from tensorflow.keras.preprocessing.text import Tokenizer\n",
        "from tensorflow.keras.layers import Input, Embedding, LSTM\n",
        "from tensorflow.keras.preprocessing.sequence import pad_sequences\n",
        "from tensorflow.keras.layers import Flatten, Dense, GlobalMaxPool1D"
      ]
    },
    {
      "cell_type": "markdown",
      "source": [
        "## **Download NLTK Package**"
      ],
      "metadata": {
        "id": "XFqXivzfTGhq"
      },
      "id": "XFqXivzfTGhq"
    },
    {
      "cell_type": "code",
      "source": [
        "nltk.download('punkt')\n",
        "nltk.download('wordnet')\n",
        "nltk.download('omw-1.4')"
      ],
      "metadata": {
        "colab": {
          "base_uri": "https://localhost:8080/"
        },
        "id": "ZFHfBZ3mO1QE",
        "outputId": "7247bc14-62ae-4753-e381-4e133b26addb"
      },
      "id": "ZFHfBZ3mO1QE",
      "execution_count": null,
      "outputs": [
        {
          "output_type": "stream",
          "name": "stderr",
          "text": [
            "[nltk_data] Downloading package punkt to /root/nltk_data...\n",
            "[nltk_data]   Package punkt is already up-to-date!\n",
            "[nltk_data] Downloading package wordnet to /root/nltk_data...\n",
            "[nltk_data]   Package wordnet is already up-to-date!\n",
            "[nltk_data] Downloading package omw-1.4 to /root/nltk_data...\n",
            "[nltk_data]   Package omw-1.4 is already up-to-date!\n"
          ]
        },
        {
          "output_type": "execute_result",
          "data": {
            "text/plain": [
              "True"
            ]
          },
          "metadata": {},
          "execution_count": 32
        }
      ]
    },
    {
      "cell_type": "markdown",
      "source": [
        "# **Load Dataset Json**\n",
        "\n",
        "Setelah import library, tahapan selanjutnya adalah me-load dataset yang telah disediakan. Dataset yang digunakan berupa format **.json** yang sangat cocok untuk membuat model Chatbot. \n",
        "\n",
        "Data Json merupakan data yang termasuk dalam *semi structured* yang dimana data ini menampung beberapa bagian data seperti **tag**, **pattern**, **context**, dan **response**. Data yang dipakai dalam proyek ini menggunakan dataset manual yang diciptakan oleh student Kampus Merdeka Batch 2 tentang <b>Chatbot Sistem Rekomendasi Kampus Merdeka</b>. [Github](https://github.com/mahmudwhd/WebKadekBot)"
      ],
      "metadata": {
        "id": "gLGpuyY9aMwW"
      },
      "id": "gLGpuyY9aMwW"
    },
    {
      "cell_type": "code",
      "source": [
        "# Importing the dataset\n",
        "with open('/content/kampus_merdeka.json') as content:\n",
        "  data1 = json.load(content)\n",
        "\n",
        "# Mendapatkan semua data ke dalam list\n",
        "tags = [] # data tag\n",
        "inputs = [] # data input atau pattern\n",
        "responses = {} # data respon\n",
        "words = [] # Data kata \n",
        "classes = [] # Data Kelas atau Tag\n",
        "documents = [] # Data Kalimat Dokumen\n",
        "ignore_words = ['?', '!'] # Mengabaikan tanda spesial karakter\n",
        "\n",
        "for intent in data1['intents']:\n",
        "  responses[intent['tag']]=intent['responses']\n",
        "  for lines in intent['patterns']:\n",
        "    inputs.append(lines)\n",
        "    tags.append(intent['tag'])\n",
        "    for pattern in intent['patterns']:\n",
        "      w = nltk.word_tokenize(pattern)\n",
        "      words.extend(w)\n",
        "      documents.append((w, intent['tag']))\n",
        "      # add to our classes list\n",
        "      if intent['tag'] not in classes:\n",
        "        classes.append(intent['tag'])\n",
        "\n",
        "# Konversi data json ke dalam dataframe\n",
        "data = pd.DataFrame({\"patterns\":inputs, \"tags\":tags})"
      ],
      "metadata": {
        "id": "JD4ILKqFZ_hf"
      },
      "id": "JD4ILKqFZ_hf",
      "execution_count": null,
      "outputs": []
    },
    {
      "cell_type": "code",
      "source": [
        "data"
      ],
      "metadata": {
        "colab": {
          "base_uri": "https://localhost:8080/",
          "height": 424
        },
        "id": "5N0s7BObcv5-",
        "outputId": "0b808649-1016-413b-e49d-837c1e681b83"
      },
      "id": "5N0s7BObcv5-",
      "execution_count": null,
      "outputs": [
        {
          "output_type": "execute_result",
          "data": {
            "text/plain": [
              "                                             patterns  \\\n",
              "0                                               hallo   \n",
              "1                                                 hai   \n",
              "2                                                halo   \n",
              "3                                                 hei   \n",
              "4                                                  hi   \n",
              "..                                                ...   \n",
              "75                                      Apa itu PMMB?   \n",
              "76                        Apa saja persyaratan IISMA?   \n",
              "77  Bagaimana periode pelaksanaan dan cara mendaft...   \n",
              "78           Apa saja manfaat apabila mengikuti PMMB?   \n",
              "79  Apa saja universitas yang tergabung dalam prog...   \n",
              "\n",
              "                            tags  \n",
              "0                       greeting  \n",
              "1                       greeting  \n",
              "2                       greeting  \n",
              "3                       greeting  \n",
              "4                       greeting  \n",
              "..                           ...  \n",
              "75               penjelasan_PMMB  \n",
              "76             persyaratan_IISMA  \n",
              "77  periode_dan_pendaftaran_PMMB  \n",
              "78                  manfaat_PMMB  \n",
              "79                    mitra_PMMB  \n",
              "\n",
              "[80 rows x 2 columns]"
            ],
            "text/html": [
              "\n",
              "  <div id=\"df-aa868797-4238-472a-b67f-a6237e337eae\">\n",
              "    <div class=\"colab-df-container\">\n",
              "      <div>\n",
              "<style scoped>\n",
              "    .dataframe tbody tr th:only-of-type {\n",
              "        vertical-align: middle;\n",
              "    }\n",
              "\n",
              "    .dataframe tbody tr th {\n",
              "        vertical-align: top;\n",
              "    }\n",
              "\n",
              "    .dataframe thead th {\n",
              "        text-align: right;\n",
              "    }\n",
              "</style>\n",
              "<table border=\"1\" class=\"dataframe\">\n",
              "  <thead>\n",
              "    <tr style=\"text-align: right;\">\n",
              "      <th></th>\n",
              "      <th>patterns</th>\n",
              "      <th>tags</th>\n",
              "    </tr>\n",
              "  </thead>\n",
              "  <tbody>\n",
              "    <tr>\n",
              "      <th>0</th>\n",
              "      <td>hallo</td>\n",
              "      <td>greeting</td>\n",
              "    </tr>\n",
              "    <tr>\n",
              "      <th>1</th>\n",
              "      <td>hai</td>\n",
              "      <td>greeting</td>\n",
              "    </tr>\n",
              "    <tr>\n",
              "      <th>2</th>\n",
              "      <td>halo</td>\n",
              "      <td>greeting</td>\n",
              "    </tr>\n",
              "    <tr>\n",
              "      <th>3</th>\n",
              "      <td>hei</td>\n",
              "      <td>greeting</td>\n",
              "    </tr>\n",
              "    <tr>\n",
              "      <th>4</th>\n",
              "      <td>hi</td>\n",
              "      <td>greeting</td>\n",
              "    </tr>\n",
              "    <tr>\n",
              "      <th>...</th>\n",
              "      <td>...</td>\n",
              "      <td>...</td>\n",
              "    </tr>\n",
              "    <tr>\n",
              "      <th>75</th>\n",
              "      <td>Apa itu PMMB?</td>\n",
              "      <td>penjelasan_PMMB</td>\n",
              "    </tr>\n",
              "    <tr>\n",
              "      <th>76</th>\n",
              "      <td>Apa saja persyaratan IISMA?</td>\n",
              "      <td>persyaratan_IISMA</td>\n",
              "    </tr>\n",
              "    <tr>\n",
              "      <th>77</th>\n",
              "      <td>Bagaimana periode pelaksanaan dan cara mendaft...</td>\n",
              "      <td>periode_dan_pendaftaran_PMMB</td>\n",
              "    </tr>\n",
              "    <tr>\n",
              "      <th>78</th>\n",
              "      <td>Apa saja manfaat apabila mengikuti PMMB?</td>\n",
              "      <td>manfaat_PMMB</td>\n",
              "    </tr>\n",
              "    <tr>\n",
              "      <th>79</th>\n",
              "      <td>Apa saja universitas yang tergabung dalam prog...</td>\n",
              "      <td>mitra_PMMB</td>\n",
              "    </tr>\n",
              "  </tbody>\n",
              "</table>\n",
              "<p>80 rows × 2 columns</p>\n",
              "</div>\n",
              "      <button class=\"colab-df-convert\" onclick=\"convertToInteractive('df-aa868797-4238-472a-b67f-a6237e337eae')\"\n",
              "              title=\"Convert this dataframe to an interactive table.\"\n",
              "              style=\"display:none;\">\n",
              "        \n",
              "  <svg xmlns=\"http://www.w3.org/2000/svg\" height=\"24px\"viewBox=\"0 0 24 24\"\n",
              "       width=\"24px\">\n",
              "    <path d=\"M0 0h24v24H0V0z\" fill=\"none\"/>\n",
              "    <path d=\"M18.56 5.44l.94 2.06.94-2.06 2.06-.94-2.06-.94-.94-2.06-.94 2.06-2.06.94zm-11 1L8.5 8.5l.94-2.06 2.06-.94-2.06-.94L8.5 2.5l-.94 2.06-2.06.94zm10 10l.94 2.06.94-2.06 2.06-.94-2.06-.94-.94-2.06-.94 2.06-2.06.94z\"/><path d=\"M17.41 7.96l-1.37-1.37c-.4-.4-.92-.59-1.43-.59-.52 0-1.04.2-1.43.59L10.3 9.45l-7.72 7.72c-.78.78-.78 2.05 0 2.83L4 21.41c.39.39.9.59 1.41.59.51 0 1.02-.2 1.41-.59l7.78-7.78 2.81-2.81c.8-.78.8-2.07 0-2.86zM5.41 20L4 18.59l7.72-7.72 1.47 1.35L5.41 20z\"/>\n",
              "  </svg>\n",
              "      </button>\n",
              "      \n",
              "  <style>\n",
              "    .colab-df-container {\n",
              "      display:flex;\n",
              "      flex-wrap:wrap;\n",
              "      gap: 12px;\n",
              "    }\n",
              "\n",
              "    .colab-df-convert {\n",
              "      background-color: #E8F0FE;\n",
              "      border: none;\n",
              "      border-radius: 50%;\n",
              "      cursor: pointer;\n",
              "      display: none;\n",
              "      fill: #1967D2;\n",
              "      height: 32px;\n",
              "      padding: 0 0 0 0;\n",
              "      width: 32px;\n",
              "    }\n",
              "\n",
              "    .colab-df-convert:hover {\n",
              "      background-color: #E2EBFA;\n",
              "      box-shadow: 0px 1px 2px rgba(60, 64, 67, 0.3), 0px 1px 3px 1px rgba(60, 64, 67, 0.15);\n",
              "      fill: #174EA6;\n",
              "    }\n",
              "\n",
              "    [theme=dark] .colab-df-convert {\n",
              "      background-color: #3B4455;\n",
              "      fill: #D2E3FC;\n",
              "    }\n",
              "\n",
              "    [theme=dark] .colab-df-convert:hover {\n",
              "      background-color: #434B5C;\n",
              "      box-shadow: 0px 1px 3px 1px rgba(0, 0, 0, 0.15);\n",
              "      filter: drop-shadow(0px 1px 2px rgba(0, 0, 0, 0.3));\n",
              "      fill: #FFFFFF;\n",
              "    }\n",
              "  </style>\n",
              "\n",
              "      <script>\n",
              "        const buttonEl =\n",
              "          document.querySelector('#df-aa868797-4238-472a-b67f-a6237e337eae button.colab-df-convert');\n",
              "        buttonEl.style.display =\n",
              "          google.colab.kernel.accessAllowed ? 'block' : 'none';\n",
              "\n",
              "        async function convertToInteractive(key) {\n",
              "          const element = document.querySelector('#df-aa868797-4238-472a-b67f-a6237e337eae');\n",
              "          const dataTable =\n",
              "            await google.colab.kernel.invokeFunction('convertToInteractive',\n",
              "                                                     [key], {});\n",
              "          if (!dataTable) return;\n",
              "\n",
              "          const docLinkHtml = 'Like what you see? Visit the ' +\n",
              "            '<a target=\"_blank\" href=https://colab.research.google.com/notebooks/data_table.ipynb>data table notebook</a>'\n",
              "            + ' to learn more about interactive tables.';\n",
              "          element.innerHTML = '';\n",
              "          dataTable['output_type'] = 'display_data';\n",
              "          await google.colab.output.renderOutput(dataTable, element);\n",
              "          const docLink = document.createElement('div');\n",
              "          docLink.innerHTML = docLinkHtml;\n",
              "          element.appendChild(docLink);\n",
              "        }\n",
              "      </script>\n",
              "    </div>\n",
              "  </div>\n",
              "  "
            ]
          },
          "metadata": {},
          "execution_count": 34
        }
      ]
    },
    {
      "cell_type": "code",
      "source": [
        "data.head() # Cetak data baris pertama sampai baris kelima"
      ],
      "metadata": {
        "colab": {
          "base_uri": "https://localhost:8080/",
          "height": 206
        },
        "id": "5DFoJwcVdP52",
        "outputId": "7e995afe-68cf-416e-addb-93a18345d0c8"
      },
      "id": "5DFoJwcVdP52",
      "execution_count": null,
      "outputs": [
        {
          "output_type": "execute_result",
          "data": {
            "text/plain": [
              "  patterns      tags\n",
              "0    hallo  greeting\n",
              "1      hai  greeting\n",
              "2     halo  greeting\n",
              "3      hei  greeting\n",
              "4       hi  greeting"
            ],
            "text/html": [
              "\n",
              "  <div id=\"df-16f89c4a-094e-4493-bf6d-9a37f561b780\">\n",
              "    <div class=\"colab-df-container\">\n",
              "      <div>\n",
              "<style scoped>\n",
              "    .dataframe tbody tr th:only-of-type {\n",
              "        vertical-align: middle;\n",
              "    }\n",
              "\n",
              "    .dataframe tbody tr th {\n",
              "        vertical-align: top;\n",
              "    }\n",
              "\n",
              "    .dataframe thead th {\n",
              "        text-align: right;\n",
              "    }\n",
              "</style>\n",
              "<table border=\"1\" class=\"dataframe\">\n",
              "  <thead>\n",
              "    <tr style=\"text-align: right;\">\n",
              "      <th></th>\n",
              "      <th>patterns</th>\n",
              "      <th>tags</th>\n",
              "    </tr>\n",
              "  </thead>\n",
              "  <tbody>\n",
              "    <tr>\n",
              "      <th>0</th>\n",
              "      <td>hallo</td>\n",
              "      <td>greeting</td>\n",
              "    </tr>\n",
              "    <tr>\n",
              "      <th>1</th>\n",
              "      <td>hai</td>\n",
              "      <td>greeting</td>\n",
              "    </tr>\n",
              "    <tr>\n",
              "      <th>2</th>\n",
              "      <td>halo</td>\n",
              "      <td>greeting</td>\n",
              "    </tr>\n",
              "    <tr>\n",
              "      <th>3</th>\n",
              "      <td>hei</td>\n",
              "      <td>greeting</td>\n",
              "    </tr>\n",
              "    <tr>\n",
              "      <th>4</th>\n",
              "      <td>hi</td>\n",
              "      <td>greeting</td>\n",
              "    </tr>\n",
              "  </tbody>\n",
              "</table>\n",
              "</div>\n",
              "      <button class=\"colab-df-convert\" onclick=\"convertToInteractive('df-16f89c4a-094e-4493-bf6d-9a37f561b780')\"\n",
              "              title=\"Convert this dataframe to an interactive table.\"\n",
              "              style=\"display:none;\">\n",
              "        \n",
              "  <svg xmlns=\"http://www.w3.org/2000/svg\" height=\"24px\"viewBox=\"0 0 24 24\"\n",
              "       width=\"24px\">\n",
              "    <path d=\"M0 0h24v24H0V0z\" fill=\"none\"/>\n",
              "    <path d=\"M18.56 5.44l.94 2.06.94-2.06 2.06-.94-2.06-.94-.94-2.06-.94 2.06-2.06.94zm-11 1L8.5 8.5l.94-2.06 2.06-.94-2.06-.94L8.5 2.5l-.94 2.06-2.06.94zm10 10l.94 2.06.94-2.06 2.06-.94-2.06-.94-.94-2.06-.94 2.06-2.06.94z\"/><path d=\"M17.41 7.96l-1.37-1.37c-.4-.4-.92-.59-1.43-.59-.52 0-1.04.2-1.43.59L10.3 9.45l-7.72 7.72c-.78.78-.78 2.05 0 2.83L4 21.41c.39.39.9.59 1.41.59.51 0 1.02-.2 1.41-.59l7.78-7.78 2.81-2.81c.8-.78.8-2.07 0-2.86zM5.41 20L4 18.59l7.72-7.72 1.47 1.35L5.41 20z\"/>\n",
              "  </svg>\n",
              "      </button>\n",
              "      \n",
              "  <style>\n",
              "    .colab-df-container {\n",
              "      display:flex;\n",
              "      flex-wrap:wrap;\n",
              "      gap: 12px;\n",
              "    }\n",
              "\n",
              "    .colab-df-convert {\n",
              "      background-color: #E8F0FE;\n",
              "      border: none;\n",
              "      border-radius: 50%;\n",
              "      cursor: pointer;\n",
              "      display: none;\n",
              "      fill: #1967D2;\n",
              "      height: 32px;\n",
              "      padding: 0 0 0 0;\n",
              "      width: 32px;\n",
              "    }\n",
              "\n",
              "    .colab-df-convert:hover {\n",
              "      background-color: #E2EBFA;\n",
              "      box-shadow: 0px 1px 2px rgba(60, 64, 67, 0.3), 0px 1px 3px 1px rgba(60, 64, 67, 0.15);\n",
              "      fill: #174EA6;\n",
              "    }\n",
              "\n",
              "    [theme=dark] .colab-df-convert {\n",
              "      background-color: #3B4455;\n",
              "      fill: #D2E3FC;\n",
              "    }\n",
              "\n",
              "    [theme=dark] .colab-df-convert:hover {\n",
              "      background-color: #434B5C;\n",
              "      box-shadow: 0px 1px 3px 1px rgba(0, 0, 0, 0.15);\n",
              "      filter: drop-shadow(0px 1px 2px rgba(0, 0, 0, 0.3));\n",
              "      fill: #FFFFFF;\n",
              "    }\n",
              "  </style>\n",
              "\n",
              "      <script>\n",
              "        const buttonEl =\n",
              "          document.querySelector('#df-16f89c4a-094e-4493-bf6d-9a37f561b780 button.colab-df-convert');\n",
              "        buttonEl.style.display =\n",
              "          google.colab.kernel.accessAllowed ? 'block' : 'none';\n",
              "\n",
              "        async function convertToInteractive(key) {\n",
              "          const element = document.querySelector('#df-16f89c4a-094e-4493-bf6d-9a37f561b780');\n",
              "          const dataTable =\n",
              "            await google.colab.kernel.invokeFunction('convertToInteractive',\n",
              "                                                     [key], {});\n",
              "          if (!dataTable) return;\n",
              "\n",
              "          const docLinkHtml = 'Like what you see? Visit the ' +\n",
              "            '<a target=\"_blank\" href=https://colab.research.google.com/notebooks/data_table.ipynb>data table notebook</a>'\n",
              "            + ' to learn more about interactive tables.';\n",
              "          element.innerHTML = '';\n",
              "          dataTable['output_type'] = 'display_data';\n",
              "          await google.colab.output.renderOutput(dataTable, element);\n",
              "          const docLink = document.createElement('div');\n",
              "          docLink.innerHTML = docLinkHtml;\n",
              "          element.appendChild(docLink);\n",
              "        }\n",
              "      </script>\n",
              "    </div>\n",
              "  </div>\n",
              "  "
            ]
          },
          "metadata": {},
          "execution_count": 35
        }
      ]
    },
    {
      "cell_type": "code",
      "source": [
        "data.tail() # Cetak data baris ke-70 sampai baris akhir"
      ],
      "metadata": {
        "colab": {
          "base_uri": "https://localhost:8080/",
          "height": 206
        },
        "id": "HksM_GGVdenI",
        "outputId": "996e3c95-677d-42e8-c638-85a4c3fa2b5c"
      },
      "id": "HksM_GGVdenI",
      "execution_count": null,
      "outputs": [
        {
          "output_type": "execute_result",
          "data": {
            "text/plain": [
              "                                             patterns  \\\n",
              "75                                      Apa itu PMMB?   \n",
              "76                        Apa saja persyaratan IISMA?   \n",
              "77  Bagaimana periode pelaksanaan dan cara mendaft...   \n",
              "78           Apa saja manfaat apabila mengikuti PMMB?   \n",
              "79  Apa saja universitas yang tergabung dalam prog...   \n",
              "\n",
              "                            tags  \n",
              "75               penjelasan_PMMB  \n",
              "76             persyaratan_IISMA  \n",
              "77  periode_dan_pendaftaran_PMMB  \n",
              "78                  manfaat_PMMB  \n",
              "79                    mitra_PMMB  "
            ],
            "text/html": [
              "\n",
              "  <div id=\"df-338d4297-63d8-4832-b1f8-42982ba14694\">\n",
              "    <div class=\"colab-df-container\">\n",
              "      <div>\n",
              "<style scoped>\n",
              "    .dataframe tbody tr th:only-of-type {\n",
              "        vertical-align: middle;\n",
              "    }\n",
              "\n",
              "    .dataframe tbody tr th {\n",
              "        vertical-align: top;\n",
              "    }\n",
              "\n",
              "    .dataframe thead th {\n",
              "        text-align: right;\n",
              "    }\n",
              "</style>\n",
              "<table border=\"1\" class=\"dataframe\">\n",
              "  <thead>\n",
              "    <tr style=\"text-align: right;\">\n",
              "      <th></th>\n",
              "      <th>patterns</th>\n",
              "      <th>tags</th>\n",
              "    </tr>\n",
              "  </thead>\n",
              "  <tbody>\n",
              "    <tr>\n",
              "      <th>75</th>\n",
              "      <td>Apa itu PMMB?</td>\n",
              "      <td>penjelasan_PMMB</td>\n",
              "    </tr>\n",
              "    <tr>\n",
              "      <th>76</th>\n",
              "      <td>Apa saja persyaratan IISMA?</td>\n",
              "      <td>persyaratan_IISMA</td>\n",
              "    </tr>\n",
              "    <tr>\n",
              "      <th>77</th>\n",
              "      <td>Bagaimana periode pelaksanaan dan cara mendaft...</td>\n",
              "      <td>periode_dan_pendaftaran_PMMB</td>\n",
              "    </tr>\n",
              "    <tr>\n",
              "      <th>78</th>\n",
              "      <td>Apa saja manfaat apabila mengikuti PMMB?</td>\n",
              "      <td>manfaat_PMMB</td>\n",
              "    </tr>\n",
              "    <tr>\n",
              "      <th>79</th>\n",
              "      <td>Apa saja universitas yang tergabung dalam prog...</td>\n",
              "      <td>mitra_PMMB</td>\n",
              "    </tr>\n",
              "  </tbody>\n",
              "</table>\n",
              "</div>\n",
              "      <button class=\"colab-df-convert\" onclick=\"convertToInteractive('df-338d4297-63d8-4832-b1f8-42982ba14694')\"\n",
              "              title=\"Convert this dataframe to an interactive table.\"\n",
              "              style=\"display:none;\">\n",
              "        \n",
              "  <svg xmlns=\"http://www.w3.org/2000/svg\" height=\"24px\"viewBox=\"0 0 24 24\"\n",
              "       width=\"24px\">\n",
              "    <path d=\"M0 0h24v24H0V0z\" fill=\"none\"/>\n",
              "    <path d=\"M18.56 5.44l.94 2.06.94-2.06 2.06-.94-2.06-.94-.94-2.06-.94 2.06-2.06.94zm-11 1L8.5 8.5l.94-2.06 2.06-.94-2.06-.94L8.5 2.5l-.94 2.06-2.06.94zm10 10l.94 2.06.94-2.06 2.06-.94-2.06-.94-.94-2.06-.94 2.06-2.06.94z\"/><path d=\"M17.41 7.96l-1.37-1.37c-.4-.4-.92-.59-1.43-.59-.52 0-1.04.2-1.43.59L10.3 9.45l-7.72 7.72c-.78.78-.78 2.05 0 2.83L4 21.41c.39.39.9.59 1.41.59.51 0 1.02-.2 1.41-.59l7.78-7.78 2.81-2.81c.8-.78.8-2.07 0-2.86zM5.41 20L4 18.59l7.72-7.72 1.47 1.35L5.41 20z\"/>\n",
              "  </svg>\n",
              "      </button>\n",
              "      \n",
              "  <style>\n",
              "    .colab-df-container {\n",
              "      display:flex;\n",
              "      flex-wrap:wrap;\n",
              "      gap: 12px;\n",
              "    }\n",
              "\n",
              "    .colab-df-convert {\n",
              "      background-color: #E8F0FE;\n",
              "      border: none;\n",
              "      border-radius: 50%;\n",
              "      cursor: pointer;\n",
              "      display: none;\n",
              "      fill: #1967D2;\n",
              "      height: 32px;\n",
              "      padding: 0 0 0 0;\n",
              "      width: 32px;\n",
              "    }\n",
              "\n",
              "    .colab-df-convert:hover {\n",
              "      background-color: #E2EBFA;\n",
              "      box-shadow: 0px 1px 2px rgba(60, 64, 67, 0.3), 0px 1px 3px 1px rgba(60, 64, 67, 0.15);\n",
              "      fill: #174EA6;\n",
              "    }\n",
              "\n",
              "    [theme=dark] .colab-df-convert {\n",
              "      background-color: #3B4455;\n",
              "      fill: #D2E3FC;\n",
              "    }\n",
              "\n",
              "    [theme=dark] .colab-df-convert:hover {\n",
              "      background-color: #434B5C;\n",
              "      box-shadow: 0px 1px 3px 1px rgba(0, 0, 0, 0.15);\n",
              "      filter: drop-shadow(0px 1px 2px rgba(0, 0, 0, 0.3));\n",
              "      fill: #FFFFFF;\n",
              "    }\n",
              "  </style>\n",
              "\n",
              "      <script>\n",
              "        const buttonEl =\n",
              "          document.querySelector('#df-338d4297-63d8-4832-b1f8-42982ba14694 button.colab-df-convert');\n",
              "        buttonEl.style.display =\n",
              "          google.colab.kernel.accessAllowed ? 'block' : 'none';\n",
              "\n",
              "        async function convertToInteractive(key) {\n",
              "          const element = document.querySelector('#df-338d4297-63d8-4832-b1f8-42982ba14694');\n",
              "          const dataTable =\n",
              "            await google.colab.kernel.invokeFunction('convertToInteractive',\n",
              "                                                     [key], {});\n",
              "          if (!dataTable) return;\n",
              "\n",
              "          const docLinkHtml = 'Like what you see? Visit the ' +\n",
              "            '<a target=\"_blank\" href=https://colab.research.google.com/notebooks/data_table.ipynb>data table notebook</a>'\n",
              "            + ' to learn more about interactive tables.';\n",
              "          element.innerHTML = '';\n",
              "          dataTable['output_type'] = 'display_data';\n",
              "          await google.colab.output.renderOutput(dataTable, element);\n",
              "          const docLink = document.createElement('div');\n",
              "          docLink.innerHTML = docLinkHtml;\n",
              "          element.appendChild(docLink);\n",
              "        }\n",
              "      </script>\n",
              "    </div>\n",
              "  </div>\n",
              "  "
            ]
          },
          "metadata": {},
          "execution_count": 36
        }
      ]
    },
    {
      "cell_type": "markdown",
      "source": [
        "Data yang telah kita miliki dalam format JSON yang dapat digunakan melalui pandas dengan cara konversi. Data JSON yang saya miliki didapat dengan cara manual dengan mengambil beberapa referensi website tentang program Kampus Merdeka."
      ],
      "metadata": {
        "id": "8p_YOwTKdr53"
      },
      "id": "8p_YOwTKdr53"
    },
    {
      "cell_type": "markdown",
      "source": [
        "# **Preprocessing The Data**\n",
        "\n",
        "Setelah kita meload data dan mengonversi data json menjadi dataframe. Tahapan selanjutnya adalah praproses pada dataset yang kita gunakan saat ini yaitu dengan cara:\n",
        "\n",
        "![Praproses.png](data:image/png;base64,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)\n",
        "\n",
        "1.   Remove Punctuations (Menghapus Punktuasi)\n",
        "2.   Lematization (Lematisasi)\n",
        "3.   Tokenization (Tokenisasi)\n",
        "4.   Apply Padding (Padding)\n",
        "5.   Encoding the Outputs (Konversi Keluaran Enkoding)"
      ],
      "metadata": {
        "id": "vHnr2WFvebeJ"
      },
      "id": "vHnr2WFvebeJ"
    },
    {
      "cell_type": "markdown",
      "source": [
        "## **Remove Punctuations**\n",
        "\n",
        "Tahapan praproses pada data teks yang pertama adalah menghapus punktuasi atau tanda baca seperti *special character* yaitu **'!'** (**tanda seru**) **','** (**tanda koma**) **'.'** (**tanda titik sebagai berhenti**) '**?**' (**tanda tanya**) dan tanda baca yang lain. Tahapan ini gunanya untuk mempermudah pemrosesan data teks yang akan kita olah."
      ],
      "metadata": {
        "id": "u_04NeXTIImg"
      },
      "id": "u_04NeXTIImg"
    },
    {
      "cell_type": "code",
      "source": [
        "# Removing Punctuations (Menghilangkan Punktuasi)\n",
        "data['patterns'] = data['patterns'].apply(lambda wrd:[ltrs.lower() for ltrs in wrd if ltrs not in string.punctuation])\n",
        "data['patterns'] = data['patterns'].apply(lambda wrd: ''.join(wrd))"
      ],
      "metadata": {
        "id": "Gh-7EtrfhQgY"
      },
      "id": "Gh-7EtrfhQgY",
      "execution_count": null,
      "outputs": []
    },
    {
      "cell_type": "markdown",
      "source": [
        "## **Lemmatization (Lematisasi)**\n",
        "\n",
        "Setelah menghapus punktuasi atau tanda baca, tahapan selanjutnya yaitu Lematisasi atau Lemmatization. **Apa itu Lematisasi?**\n",
        "\n",
        "Lematisasi atau Lemmatization adalah proses dimana merujuk pada melakukan sesuatu menggunakan vocabulary atau kosakata dan analisis morfologi kata-kata untuk menghilangkan *inflectional endings only* dan untuk mengembalikan bentuk *dictionary* (kata dalam kamus) dari sebuah kata yang dikenal sebagai ***lemma***. \n",
        "\n",
        "Contoh Lematisasi : **Menggunakan** (Kata Imbuhan) -> **Guna** (Kata Dasar) \n",
        "\n",
        "Dalam contoh berikut proses lematisasi awalnya data teks menggunakan kata imbuhan yaitu **Menggunakan** dimana **meng-** + **guna** (kata dasar yang berawalan vokal g) + **kan** (sebagai akhiran) diubah menjadi kata dasar yaitu '**Guna**'. \n",
        "\n",
        "Proses ini dimana menghilangkan Prefiks pada imbuhan (**Meng-**) dan Suffiks pada (**-kan**)."
      ],
      "metadata": {
        "id": "5brR-qBLJDa_"
      },
      "id": "5brR-qBLJDa_"
    },
    {
      "cell_type": "code",
      "source": [
        "lemmatizer = WordNetLemmatizer()\n",
        "words = [lemmatizer.lemmatize(w.lower()) for w in words if w not in ignore_words]\n",
        "words = sorted(list(set(words)))\n",
        "\n",
        "print (len(words), \"unique lemmatized words\", words)"
      ],
      "metadata": {
        "colab": {
          "base_uri": "https://localhost:8080/"
        },
        "id": "22MVRGBsO9gX",
        "outputId": "e98cad72-1366-4f98-b5ab-18804c4c7bd6"
      },
      "id": "22MVRGBsO9gX",
      "execution_count": null,
      "outputs": [
        {
          "output_type": "stream",
          "name": "stdout",
          "text": [
            "78 unique lemmatized words [',', 'afternoon', 'apa', 'apabila', 'bagaimana', 'bai', 'banyak', 'bersertifikat', 'bro', 'buat', 'bumn', 'bye', 'byee', 'cara', 'dadah', 'dah', 'dalam', 'dan', 'good', 'hai', 'hallo', 'halo', 'hei', 'hi', 'hy', 'iisma', 'independen', 'itu', 'jumpa', 'kadek', 'kadekbot', 'kampus', 'kamu', 'kasih', 'kawan', 'kemendikbud', 'kemensos', 'magang', 'mahasiswa', 'makasih', 'malam', 'manfaat', 'mendaftar', 'mengajar', 'mengikuti', 'merdeka', 'mitra', 'morning', 'muda', 'pagi', 'pejuang', 'pelaksanaan', 'pembuatmu', 'penciptamu', 'periode', 'persyaratan', 'pertukaran', 'pmmb', 'program', 'saja', 'sampai', 'see', 'selamat', 'si', 'siang', 'siapa', 'sih', 'sore', 'studi', 'tergabung', 'terima', 'thank', 'thanks', 'tinggal', 'tujuan', 'universitas', 'yang', 'you']\n"
          ]
        }
      ]
    },
    {
      "cell_type": "code",
      "source": [
        "# sort classes\n",
        "classes = sorted(list(set(classes)))\n",
        "print (len(classes), \"classes\", classes)"
      ],
      "metadata": {
        "colab": {
          "base_uri": "https://localhost:8080/"
        },
        "id": "TK_v4Zw5P8rn",
        "outputId": "ce4b59c7-b7fe-4a80-e756-d2ec2a8510a9"
      },
      "id": "TK_v4Zw5P8rn",
      "execution_count": null,
      "outputs": [
        {
          "output_type": "stream",
          "name": "stdout",
          "text": [
            "40 classes ['goodbye', 'greeting', 'kadekbot', 'manfaat_IISMA', 'manfaat_PMMB', 'manfaat_kampus_mengajar', 'manfaat_magang', 'manfaat_pejuang_muda', 'manfaat_pertukaran_mahasiswa', 'manfaat_studi_independen', 'mitra_IISMA', 'mitra_PMMB', 'mitra_magang', 'mitra_studi_independen', 'pencipta_kadekbot', 'penjelasan_IISMA', 'penjelasan_PMMB', 'penjelasan_kampus_mengajar', 'penjelasan_kampus_merdeka', 'penjelasan_magang', 'penjelasan_pejuang_muda', 'penjelasan_pertukaran_mahasiswa', 'penjelasan_studi_independen', 'periode_dan_pendaftaran_IISMA', 'periode_dan_pendaftaran_PMMB', 'periode_dan_pendaftaran_kampus_mengajar', 'periode_dan_pendaftaran_magang', 'periode_dan_pendaftaran_pejuang_muda', 'periode_dan_pendaftaran_pertukaran_mahasiswa', 'periode_dan_pendaftaran_studi_independen', 'persyaratan_IISMA', 'persyaratan_kampus_mengajar', 'persyaratan_kampus_merdeka', 'persyaratan_magang', 'persyaratan_pejuang_muda', 'persyaratan_pertukaran_mahasiswa', 'persyaratan_studi_independen', 'program_kampus_merdeka', 'terimakasih', 'tujuan_kampus_merdeka']\n"
          ]
        }
      ]
    },
    {
      "cell_type": "code",
      "source": [
        "# documents = combination between patterns and intents\n",
        "print (len(documents), \"documents\")"
      ],
      "metadata": {
        "colab": {
          "base_uri": "https://localhost:8080/"
        },
        "id": "Tv5lLFn1QCDP",
        "outputId": "08128dd6-0c50-484a-f2d1-a592c0edddd9"
      },
      "id": "Tv5lLFn1QCDP",
      "execution_count": null,
      "outputs": [
        {
          "output_type": "stream",
          "name": "stdout",
          "text": [
            "438 documents\n"
          ]
        }
      ]
    },
    {
      "cell_type": "markdown",
      "source": [
        "## **Tokenization (Tokenisasi)**\n",
        "\n",
        "Setelah proses lematisasi dan mencari tahu data classes dan jumlah keseluruhan data patterns dengan intents-nya. Maka, tahapan selanjutnya proses tokenisasi. **Apa itu Tokenisasi?**\n",
        "\n",
        "Tokenisasi adalah suatu proses memberikan urutan karakter dan sebuah unit dokumen terdefinisi. Tokenisasi juga merupakan tugas untuk memecah kalimat menjadi bagian-bagian yang disebut dengan '**Token**' dan menghilangkan bagian tertentu seperti tanda baca.\n",
        "\n",
        "Contohnya: **Aku Pergi Ke Makassar** -> '**Aku**' '**Pergi**' '**Ke**' '**Makassar**'"
      ],
      "metadata": {
        "id": "sVdv1gW5N7a6"
      },
      "id": "sVdv1gW5N7a6"
    },
    {
      "cell_type": "code",
      "source": [
        "# Tokenize the data (Tokenisasi Data)\n",
        "tokenizer = Tokenizer(num_words=2000)\n",
        "tokenizer.fit_on_texts(data['patterns'])\n",
        "train = tokenizer.texts_to_sequences(data['patterns'])\n",
        "train"
      ],
      "metadata": {
        "id": "Xr5aehymeQdi",
        "colab": {
          "base_uri": "https://localhost:8080/"
        },
        "outputId": "b746d2b0-42c2-4298-8c60-104afbf7e8c3"
      },
      "id": "Xr5aehymeQdi",
      "execution_count": null,
      "outputs": [
        {
          "output_type": "execute_result",
          "data": {
            "text/plain": [
              "[[40],\n",
              " [41],\n",
              " [42],\n",
              " [43],\n",
              " [44],\n",
              " [45],\n",
              " [46],\n",
              " [47],\n",
              " [48],\n",
              " [49],\n",
              " [50],\n",
              " [51],\n",
              " [52],\n",
              " [53],\n",
              " [54],\n",
              " [1, 6, 32],\n",
              " [29, 32],\n",
              " [29, 55],\n",
              " [33, 21, 56, 57, 29, 58],\n",
              " [29, 59, 33],\n",
              " [60],\n",
              " [61],\n",
              " [34],\n",
              " [62],\n",
              " [63, 34],\n",
              " [64, 65],\n",
              " [66, 67],\n",
              " [68],\n",
              " [69, 35],\n",
              " [70],\n",
              " [71, 35],\n",
              " [36, 37],\n",
              " [72],\n",
              " [36, 37, 73],\n",
              " [1, 6, 4, 5],\n",
              " [1, 74, 4, 5],\n",
              " [1, 7, 8, 4, 5],\n",
              " [1, 2, 3, 4, 5],\n",
              " [3, 4, 5, 75],\n",
              " [3, 4, 5, 76],\n",
              " [3, 4, 5, 77],\n",
              " [18, 19],\n",
              " [20],\n",
              " [4, 22],\n",
              " [9],\n",
              " [23, 24, 5],\n",
              " [25, 26],\n",
              " [27],\n",
              " [1, 6, 18, 19],\n",
              " [1, 2, 7, 18, 19],\n",
              " [10, 11, 12, 13, 14, 15, 3, 18, 19],\n",
              " [1, 2, 16, 17, 8, 18, 19],\n",
              " [1, 2, 38, 21, 30, 31, 18, 19],\n",
              " [1, 6, 20, 28],\n",
              " [1, 2, 7, 20, 28],\n",
              " [10, 11, 12, 13, 14, 15, 3, 20, 28],\n",
              " [1, 2, 16, 17, 8, 20, 28],\n",
              " [1, 2, 38, 21, 30, 31, 20, 28],\n",
              " [1, 6, 4, 22],\n",
              " [1, 2, 7, 4, 22],\n",
              " [10, 11, 12, 13, 14, 15, 3, 4, 22],\n",
              " [1, 2, 16, 17, 8, 4, 22],\n",
              " [1, 6, 9],\n",
              " [1, 2, 7, 9],\n",
              " [10, 11, 12, 13, 14, 15, 3, 9],\n",
              " [1, 2, 16, 17, 8, 9],\n",
              " [1, 2, 39, 21, 30, 31, 3, 9],\n",
              " [1, 6, 23, 24, 5],\n",
              " [1, 2, 7, 23, 24, 5],\n",
              " [10, 11, 12, 13, 14, 15, 3, 23, 24, 5],\n",
              " [1, 2, 16, 17, 8, 23, 24, 5],\n",
              " [1, 6, 25, 26],\n",
              " [1, 2, 7, 25, 26],\n",
              " [10, 11, 12, 13, 14, 15, 3, 25, 26],\n",
              " [1, 2, 16, 17, 8, 25, 26],\n",
              " [1, 6, 27],\n",
              " [1, 2, 7, 9],\n",
              " [10, 11, 12, 13, 14, 15, 3, 27],\n",
              " [1, 2, 16, 17, 8, 27],\n",
              " [1, 2, 39, 21, 30, 31, 3, 27]]"
            ]
          },
          "metadata": {},
          "execution_count": 41
        }
      ]
    },
    {
      "cell_type": "markdown",
      "source": [
        "## **Padding**\n",
        "\n",
        "Setelah memproses tokenisasi yang dimana memecah kalimat menajdi bagian-bagian yang disebut token yang digunakan untuk mengolah data teks pada AI Chatbot maka tahapan selanjutnya adalah Padding.\n",
        "**Apa itu Padding?**\n",
        "\n",
        "**Padding** adalah Suatu proses untuk mengubah setiap sequence agar memiliki panjang yang sama. Pada padding, setiap sequence dibuat sama panjang dengan menambahkan nilai 0 secara suffiks atau prefiks hingga mencapai panjang maksimum sequence. Selain itu padding juga dapat memotong sequence hingga panjangnya sesuai dengan panjang maksimum sequence. \n",
        "\n",
        "Padding juga adalah proses untuk membuat setiap kalimat pada teks memiliki panjang yang seragam. Sama seperti melakukan resize gambar, agar resolusi setiap gambar sama besar. Untuk menggunakan padding bisa impor library **pad_sequence**. Kemudian buat panggil fungsi pad_sequence() dan masukkan sequence hasil tokenisasi sebagai parameternya.\n",
        "\n",
        "Contohnya: `sequences_samapanjang = pad_sequences(sequences)`\n",
        "\n",
        "Yang nantinya akan dikeluarkan menjadi angka dengan awalan 0 seperti gambar dibawah ini.\n",
        "\n",
        "![Padding.jpeg](data:image/jpeg;base64,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)"
      ],
      "metadata": {
        "id": "LfEpFf0hPOUZ"
      },
      "id": "LfEpFf0hPOUZ"
    },
    {
      "cell_type": "code",
      "source": [
        "# Apply padding \n",
        "x_train = pad_sequences(train)\n",
        "print(x_train) # Padding Sequences"
      ],
      "metadata": {
        "id": "5BQdPUTNvS1t",
        "colab": {
          "base_uri": "https://localhost:8080/"
        },
        "outputId": "7cb7679a-5bce-4e9b-d8e3-25ab19181d23"
      },
      "id": "5BQdPUTNvS1t",
      "execution_count": null,
      "outputs": [
        {
          "output_type": "stream",
          "name": "stdout",
          "text": [
            "[[ 0  0  0  0  0  0  0  0  0 40]\n",
            " [ 0  0  0  0  0  0  0  0  0 41]\n",
            " [ 0  0  0  0  0  0  0  0  0 42]\n",
            " [ 0  0  0  0  0  0  0  0  0 43]\n",
            " [ 0  0  0  0  0  0  0  0  0 44]\n",
            " [ 0  0  0  0  0  0  0  0  0 45]\n",
            " [ 0  0  0  0  0  0  0  0  0 46]\n",
            " [ 0  0  0  0  0  0  0  0  0 47]\n",
            " [ 0  0  0  0  0  0  0  0  0 48]\n",
            " [ 0  0  0  0  0  0  0  0  0 49]\n",
            " [ 0  0  0  0  0  0  0  0  0 50]\n",
            " [ 0  0  0  0  0  0  0  0  0 51]\n",
            " [ 0  0  0  0  0  0  0  0  0 52]\n",
            " [ 0  0  0  0  0  0  0  0  0 53]\n",
            " [ 0  0  0  0  0  0  0  0  0 54]\n",
            " [ 0  0  0  0  0  0  0  1  6 32]\n",
            " [ 0  0  0  0  0  0  0  0 29 32]\n",
            " [ 0  0  0  0  0  0  0  0 29 55]\n",
            " [ 0  0  0  0 33 21 56 57 29 58]\n",
            " [ 0  0  0  0  0  0  0 29 59 33]\n",
            " [ 0  0  0  0  0  0  0  0  0 60]\n",
            " [ 0  0  0  0  0  0  0  0  0 61]\n",
            " [ 0  0  0  0  0  0  0  0  0 34]\n",
            " [ 0  0  0  0  0  0  0  0  0 62]\n",
            " [ 0  0  0  0  0  0  0  0 63 34]\n",
            " [ 0  0  0  0  0  0  0  0 64 65]\n",
            " [ 0  0  0  0  0  0  0  0 66 67]\n",
            " [ 0  0  0  0  0  0  0  0  0 68]\n",
            " [ 0  0  0  0  0  0  0  0 69 35]\n",
            " [ 0  0  0  0  0  0  0  0  0 70]\n",
            " [ 0  0  0  0  0  0  0  0 71 35]\n",
            " [ 0  0  0  0  0  0  0  0 36 37]\n",
            " [ 0  0  0  0  0  0  0  0  0 72]\n",
            " [ 0  0  0  0  0  0  0 36 37 73]\n",
            " [ 0  0  0  0  0  0  1  6  4  5]\n",
            " [ 0  0  0  0  0  0  1 74  4  5]\n",
            " [ 0  0  0  0  0  1  7  8  4  5]\n",
            " [ 0  0  0  0  0  1  2  3  4  5]\n",
            " [ 0  0  0  0  0  0  3  4  5 75]\n",
            " [ 0  0  0  0  0  0  3  4  5 76]\n",
            " [ 0  0  0  0  0  0  3  4  5 77]\n",
            " [ 0  0  0  0  0  0  0  0 18 19]\n",
            " [ 0  0  0  0  0  0  0  0  0 20]\n",
            " [ 0  0  0  0  0  0  0  0  4 22]\n",
            " [ 0  0  0  0  0  0  0  0  0  9]\n",
            " [ 0  0  0  0  0  0  0 23 24  5]\n",
            " [ 0  0  0  0  0  0  0  0 25 26]\n",
            " [ 0  0  0  0  0  0  0  0  0 27]\n",
            " [ 0  0  0  0  0  0  1  6 18 19]\n",
            " [ 0  0  0  0  0  1  2  7 18 19]\n",
            " [ 0 10 11 12 13 14 15  3 18 19]\n",
            " [ 0  0  0  1  2 16 17  8 18 19]\n",
            " [ 0  0  1  2 38 21 30 31 18 19]\n",
            " [ 0  0  0  0  0  0  1  6 20 28]\n",
            " [ 0  0  0  0  0  1  2  7 20 28]\n",
            " [ 0 10 11 12 13 14 15  3 20 28]\n",
            " [ 0  0  0  1  2 16 17  8 20 28]\n",
            " [ 0  0  1  2 38 21 30 31 20 28]\n",
            " [ 0  0  0  0  0  0  1  6  4 22]\n",
            " [ 0  0  0  0  0  1  2  7  4 22]\n",
            " [ 0 10 11 12 13 14 15  3  4 22]\n",
            " [ 0  0  0  1  2 16 17  8  4 22]\n",
            " [ 0  0  0  0  0  0  0  1  6  9]\n",
            " [ 0  0  0  0  0  0  1  2  7  9]\n",
            " [ 0  0 10 11 12 13 14 15  3  9]\n",
            " [ 0  0  0  0  1  2 16 17  8  9]\n",
            " [ 0  0  1  2 39 21 30 31  3  9]\n",
            " [ 0  0  0  0  0  1  6 23 24  5]\n",
            " [ 0  0  0  0  1  2  7 23 24  5]\n",
            " [10 11 12 13 14 15  3 23 24  5]\n",
            " [ 0  0  1  2 16 17  8 23 24  5]\n",
            " [ 0  0  0  0  0  0  1  6 25 26]\n",
            " [ 0  0  0  0  0  1  2  7 25 26]\n",
            " [ 0 10 11 12 13 14 15  3 25 26]\n",
            " [ 0  0  0  1  2 16 17  8 25 26]\n",
            " [ 0  0  0  0  0  0  0  1  6 27]\n",
            " [ 0  0  0  0  0  0  1  2  7  9]\n",
            " [ 0  0 10 11 12 13 14 15  3 27]\n",
            " [ 0  0  0  0  1  2 16 17  8 27]\n",
            " [ 0  0  1  2 39 21 30 31  3 27]]\n"
          ]
        }
      ]
    },
    {
      "cell_type": "markdown",
      "source": [
        "Hasil setelah padding adalah setiap sequence memiliki panjang yang sama. Padding dapat melakukan ini dengan menambahkan 0 secara default pada awal sequence yang lebih pendek."
      ],
      "metadata": {
        "id": "1Khg-ygkb0nD"
      },
      "id": "1Khg-ygkb0nD"
    },
    {
      "cell_type": "markdown",
      "source": [
        "## **Encoding Text**\n",
        "\n",
        "Setelah tahapan proses Padding pada suatu teks maka proses terakhir dalam pemrosesan teks adalah tahapan Encoding. **Apa itu Encoding?**\n",
        "\n",
        "Encoding merupakan suatu konversi atau pengkodean yang dimana data kategorik seperti huruf atau data teks menjadi data numerik atau angka menyesuaikan dengan data label yang digunakan. Pada proses tahapan ini, encoding mengubah data teks pada kolom data tags menjadi data numerik dengan bahasa biner komputer yaitu 0 dan 1. \n",
        "\n",
        "Tujuan dari encoding ini adalah mempermudah saat proses komputasi data teks dan modelling."
      ],
      "metadata": {
        "id": "qY0vxxwBPeJC"
      },
      "id": "qY0vxxwBPeJC"
    },
    {
      "cell_type": "code",
      "source": [
        "# Encoding the outputs \n",
        "le = LabelEncoder()\n",
        "y_train = le.fit_transform(data['tags'])\n",
        "print(y_train) #Label Encodings"
      ],
      "metadata": {
        "colab": {
          "base_uri": "https://localhost:8080/"
        },
        "id": "sczq--IpTYWa",
        "outputId": "cb493a0d-3ed6-4ddb-86fe-4e77e2bd1422"
      },
      "id": "sczq--IpTYWa",
      "execution_count": null,
      "outputs": [
        {
          "output_type": "stream",
          "name": "stdout",
          "text": [
            "[ 1  1  1  1  1  1  1  1  1  1  1  1  1  1  1  2  2 14 14 14  0  0  0  0\n",
            "  0  0  0  0  0 38 38 38 38 38 18 39 32 37 37 37 37 37 37 37 37 37 37 37\n",
            " 22 36 29  9 13 19 33 26  6 12 17 31 25  5 15 30 23  3 10 21 35 28  8 20\n",
            " 34 27  7 16 30 24  4 11]\n"
          ]
        }
      ]
    },
    {
      "cell_type": "markdown",
      "source": [
        "Tokenizer pada Tensorflow memberikan token unik untuk setiap kata yang berbeda. Dan juga padding dilakukan untuk mendapatkan semua data dengan panjang yang sama sehingga dapat mengirimkannya ke lapisan atau layer RNN. variabel target juga dikodekan menjadi nilai desimal."
      ],
      "metadata": {
        "id": "D9rKggGCgnjT"
      },
      "id": "D9rKggGCgnjT"
    },
    {
      "cell_type": "markdown",
      "source": [
        "# **Input Length, Output Length and Vocabulary**\n",
        "\n"
      ],
      "metadata": {
        "id": "_hE21zfRhiNS"
      },
      "id": "_hE21zfRhiNS"
    },
    {
      "cell_type": "code",
      "source": [
        "# input length\n",
        "input_shape = x_train.shape[1]\n",
        "print(input_shape)"
      ],
      "metadata": {
        "colab": {
          "base_uri": "https://localhost:8080/"
        },
        "id": "dbtBZXFvgvCB",
        "outputId": "407f3978-e06d-4bf7-ed46-c672b44a1370"
      },
      "id": "dbtBZXFvgvCB",
      "execution_count": null,
      "outputs": [
        {
          "output_type": "stream",
          "name": "stdout",
          "text": [
            "10\n"
          ]
        }
      ]
    },
    {
      "cell_type": "code",
      "source": [
        "# define vocabulary\n",
        "vocabulary = len(tokenizer.word_index)\n",
        "print(\"number of unique words : \", vocabulary)\n",
        "\n",
        "# output length\n",
        "output_length = le.classes_.shape[0]\n",
        "print(\"output length: \", output_length)"
      ],
      "metadata": {
        "colab": {
          "base_uri": "https://localhost:8080/"
        },
        "id": "310y6oNLhuzv",
        "outputId": "b8152a4d-af28-4b92-8f82-2cbbe6ecd765"
      },
      "id": "310y6oNLhuzv",
      "execution_count": null,
      "outputs": [
        {
          "output_type": "stream",
          "name": "stdout",
          "text": [
            "number of unique words :  77\n",
            "output length:  40\n"
          ]
        }
      ]
    },
    {
      "cell_type": "markdown",
      "source": [
        "**Input length** dan **output length** terlihat sangat jelas hasilnya. Mereka adalah untuk bentuk input dan bentuk output dari data train atau latih yang akan diproses pada algoritma Neural Network atau Jaringan Syaraf Tiruan.\n",
        "\n",
        "**Vocabulary Size** adalah untuk lapisan penyematan untuk membuat representasi vektor unik untuk setiap kata."
      ],
      "metadata": {
        "id": "AInHhmVGict2"
      },
      "id": "AInHhmVGict2"
    },
    {
      "cell_type": "markdown",
      "source": [
        "## **Save Model Words & Classes**\n",
        "\n",
        "Setelah dilakukan pemrosesan teks yang dilakukan lima tahap maka kita bisa simpan model pemrosesan teks tersebut dengan menggunakan format pickle. \n",
        "\n",
        "Hal ini biasanya digunakan untuk membuat hubungan model yang telah dilatih dengan model pemrosesan teks. "
      ],
      "metadata": {
        "id": "1LxIElYjQbB7"
      },
      "id": "1LxIElYjQbB7"
    },
    {
      "cell_type": "code",
      "source": [
        "pickle.dump(words, open('words.pkl', 'wb'))\n",
        "pickle.dump(classes, open('classes.pkl', 'wb'))"
      ],
      "metadata": {
        "id": "FS7z9L9mq-gx"
      },
      "id": "FS7z9L9mq-gx",
      "execution_count": null,
      "outputs": []
    },
    {
      "cell_type": "markdown",
      "source": [
        "# **Neural Network Model**\n",
        "\n",
        "Jaringan syaraf yang terdiri dari lapisan embedding yang merupakan salah satu hal yang paling kuat di bidang pemrosesan bahasa alami atau NLP. output atau keluaran dari lapisan embedding adalah input dari lapisan berulang (*recurrent*) dengan LSTM gate. Kemudian, output diratakan dan lapisan Dense digunakan dengan fungsi aktivasi softmax.\n",
        "\n",
        "Bagian utama adalah lapisan embedding yang memberikan vektor yang sesuai untuk setiap kata dalam dataset."
      ],
      "metadata": {
        "id": "BI7OvNariInQ"
      },
      "id": "BI7OvNariInQ"
    },
    {
      "cell_type": "code",
      "source": [
        "# Creating the model (Membuat Modeling)\n",
        "i = Input(shape=(input_shape,))\n",
        "x = Embedding(vocabulary+1,10)(i) # Layer Embedding\n",
        "x = LSTM(10, return_sequences=True)(x) # Layer Long Short Term Memory\n",
        "x = Flatten()(x) # Layer Flatten\n",
        "x = Dense(output_length, activation=\"softmax\")(x) # Layer Dense\n",
        "model  = Model(i,x)\n",
        "\n",
        "# Compiling the model (Kompilasi Model)\n",
        "model.compile(loss=\"sparse_categorical_crossentropy\", optimizer='adam', metrics=['accuracy'])"
      ],
      "metadata": {
        "id": "2XBG3_reh2KY"
      },
      "id": "2XBG3_reh2KY",
      "execution_count": null,
      "outputs": []
    },
    {
      "cell_type": "code",
      "source": [
        "# Visualization Plot Architecture Model (Visualisasi Plot Arsitektur Model)\n",
        "plot_model(model, to_file='/content/model_plot.png', show_shapes=True, show_layer_names=True)"
      ],
      "metadata": {
        "colab": {
          "base_uri": "https://localhost:8080/",
          "height": 533
        },
        "id": "SO1blkS7ZzuH",
        "outputId": "0ef8dd70-b448-4983-c584-c6326ed367bb"
      },
      "id": "SO1blkS7ZzuH",
      "execution_count": null,
      "outputs": [
        {
          "output_type": "execute_result",
          "data": {
            "image/png": "[encoded data removed]",
            "text/plain": [
              "<IPython.core.display.Image object>"
            ]
          },
          "metadata": {},
          "execution_count": 48
        }
      ]
    },
    {
      "cell_type": "code",
      "source": [
        "model.summary() # Menampilkan Parameter Model"
      ],
      "metadata": {
        "colab": {
          "base_uri": "https://localhost:8080/"
        },
        "id": "4hab_JHoopQI",
        "outputId": "6ed010f6-635a-4926-853b-26748dc7fb78"
      },
      "id": "4hab_JHoopQI",
      "execution_count": null,
      "outputs": [
        {
          "output_type": "stream",
          "name": "stdout",
          "text": [
            "Model: \"model_1\"\n",
            "_________________________________________________________________\n",
            " Layer (type)                Output Shape              Param #   \n",
            "=================================================================\n",
            " input_2 (InputLayer)        [(None, 10)]              0         \n",
            "                                                                 \n",
            " embedding_1 (Embedding)     (None, 10, 10)            780       \n",
            "                                                                 \n",
            " lstm_1 (LSTM)               (None, 10, 10)            840       \n",
            "                                                                 \n",
            " flatten_1 (Flatten)         (None, 100)               0         \n",
            "                                                                 \n",
            " dense_1 (Dense)             (None, 40)                4040      \n",
            "                                                                 \n",
            "=================================================================\n",
            "Total params: 5,660\n",
            "Trainable params: 5,660\n",
            "Non-trainable params: 0\n",
            "_________________________________________________________________\n"
          ]
        }
      ]
    },
    {
      "cell_type": "code",
      "source": [
        "# Training the model (Latih Model Data)\n",
        "train = model.fit(x_train, y_train, epochs=400)"
      ],
      "metadata": {
        "colab": {
          "base_uri": "https://localhost:8080/"
        },
        "id": "AHtOlCb8kGgZ",
        "outputId": "e0bb2ffe-0344-4a95-a439-c7bf4fd85090"
      },
      "id": "AHtOlCb8kGgZ",
      "execution_count": null,
      "outputs": [
        {
          "output_type": "stream",
          "name": "stdout",
          "text": [
            "Epoch 1/400\n",
            "3/3 [==============================] - 3s 11ms/step - loss: 3.6857 - accuracy: 0.0125\n",
            "Epoch 2/400\n",
            "3/3 [==============================] - 0s 11ms/step - loss: 3.6761 - accuracy: 0.0000e+00\n",
            "Epoch 3/400\n",
            "3/3 [==============================] - 0s 10ms/step - loss: 3.6663 - accuracy: 0.0625\n",
            "Epoch 4/400\n",
            "3/3 [==============================] - 0s 13ms/step - loss: 3.6547 - accuracy: 0.1875\n",
            "Epoch 5/400\n",
            "3/3 [==============================] - 0s 11ms/step - loss: 3.6421 - accuracy: 0.1875\n",
            "Epoch 6/400\n",
            "3/3 [==============================] - 0s 12ms/step - loss: 3.6269 - accuracy: 0.2000\n",
            "Epoch 7/400\n",
            "3/3 [==============================] - 0s 17ms/step - loss: 3.6086 - accuracy: 0.2125\n",
            "Epoch 8/400\n",
            "3/3 [==============================] - 0s 17ms/step - loss: 3.5863 - accuracy: 0.2250\n",
            "Epoch 9/400\n",
            "3/3 [==============================] - 0s 19ms/step - loss: 3.5612 - accuracy: 0.2250\n",
            "Epoch 10/400\n",
            "3/3 [==============================] - 0s 20ms/step - loss: 3.5293 - accuracy: 0.2250\n",
            "Epoch 11/400\n",
            "3/3 [==============================] - 0s 16ms/step - loss: 3.4933 - accuracy: 0.2375\n",
            "Epoch 12/400\n",
            "3/3 [==============================] - 0s 16ms/step - loss: 3.4490 - accuracy: 0.2250\n",
            "Epoch 13/400\n",
            "3/3 [==============================] - 0s 14ms/step - loss: 3.3945 - accuracy: 0.2000\n",
            "Epoch 14/400\n",
            "3/3 [==============================] - 0s 15ms/step - loss: 3.3371 - accuracy: 0.1875\n",
            "Epoch 15/400\n",
            "3/3 [==============================] - 0s 12ms/step - loss: 3.2720 - accuracy: 0.1875\n",
            "Epoch 16/400\n",
            "3/3 [==============================] - 0s 13ms/step - loss: 3.2067 - accuracy: 0.1875\n",
            "Epoch 17/400\n",
            "3/3 [==============================] - 0s 13ms/step - loss: 3.1292 - accuracy: 0.1875\n",
            "Epoch 18/400\n",
            "3/3 [==============================] - 0s 8ms/step - loss: 3.0678 - accuracy: 0.1875\n",
            "Epoch 19/400\n",
            "3/3 [==============================] - 0s 13ms/step - loss: 3.0032 - accuracy: 0.1875\n",
            "Epoch 20/400\n",
            "3/3 [==============================] - 0s 12ms/step - loss: 2.9684 - accuracy: 0.1875\n",
            "Epoch 21/400\n",
            "3/3 [==============================] - 0s 9ms/step - loss: 2.9456 - accuracy: 0.1875\n",
            "Epoch 22/400\n",
            "3/3 [==============================] - 0s 8ms/step - loss: 2.9328 - accuracy: 0.1875\n",
            "Epoch 23/400\n",
            "3/3 [==============================] - 0s 11ms/step - loss: 2.9174 - accuracy: 0.1875\n",
            "Epoch 24/400\n",
            "3/3 [==============================] - 0s 9ms/step - loss: 2.9041 - accuracy: 0.1875\n",
            "Epoch 25/400\n",
            "3/3 [==============================] - 0s 14ms/step - loss: 2.8855 - accuracy: 0.1875\n",
            "Epoch 26/400\n",
            "3/3 [==============================] - 0s 12ms/step - loss: 2.8641 - accuracy: 0.1875\n",
            "Epoch 27/400\n",
            "3/3 [==============================] - 0s 12ms/step - loss: 2.8453 - accuracy: 0.1875\n",
            "Epoch 28/400\n",
            "3/3 [==============================] - 0s 9ms/step - loss: 2.8309 - accuracy: 0.1875\n",
            "Epoch 29/400\n",
            "3/3 [==============================] - 0s 10ms/step - loss: 2.8132 - accuracy: 0.1875\n",
            "Epoch 30/400\n",
            "3/3 [==============================] - 0s 9ms/step - loss: 2.7979 - accuracy: 0.1875\n",
            "Epoch 31/400\n",
            "3/3 [==============================] - 0s 13ms/step - loss: 2.7820 - accuracy: 0.1875\n",
            "Epoch 32/400\n",
            "3/3 [==============================] - 0s 9ms/step - loss: 2.7673 - accuracy: 0.1875\n",
            "Epoch 33/400\n",
            "3/3 [==============================] - 0s 9ms/step - loss: 2.7504 - accuracy: 0.2000\n",
            "Epoch 34/400\n",
            "3/3 [==============================] - 0s 9ms/step - loss: 2.7344 - accuracy: 0.2000\n",
            "Epoch 35/400\n",
            "3/3 [==============================] - 0s 8ms/step - loss: 2.7188 - accuracy: 0.2000\n",
            "Epoch 36/400\n",
            "3/3 [==============================] - 0s 8ms/step - loss: 2.7032 - accuracy: 0.2125\n",
            "Epoch 37/400\n",
            "3/3 [==============================] - 0s 10ms/step - loss: 2.6878 - accuracy: 0.2125\n",
            "Epoch 38/400\n",
            "3/3 [==============================] - 0s 8ms/step - loss: 2.6727 - accuracy: 0.2250\n",
            "Epoch 39/400\n",
            "3/3 [==============================] - 0s 9ms/step - loss: 2.6564 - accuracy: 0.2250\n",
            "Epoch 40/400\n",
            "3/3 [==============================] - 0s 8ms/step - loss: 2.6409 - accuracy: 0.2250\n",
            "Epoch 41/400\n",
            "3/3 [==============================] - 0s 9ms/step - loss: 2.6259 - accuracy: 0.2375\n",
            "Epoch 42/400\n",
            "3/3 [==============================] - 0s 8ms/step - loss: 2.6117 - accuracy: 0.2500\n",
            "Epoch 43/400\n",
            "3/3 [==============================] - 0s 8ms/step - loss: 2.5959 - accuracy: 0.2500\n",
            "Epoch 44/400\n",
            "3/3 [==============================] - 0s 8ms/step - loss: 2.5820 - accuracy: 0.2500\n",
            "Epoch 45/400\n",
            "3/3 [==============================] - 0s 8ms/step - loss: 2.5691 - accuracy: 0.2500\n",
            "Epoch 46/400\n",
            "3/3 [==============================] - 0s 10ms/step - loss: 2.5535 - accuracy: 0.2500\n",
            "Epoch 47/400\n",
            "3/3 [==============================] - 0s 11ms/step - loss: 2.5410 - accuracy: 0.2500\n",
            "Epoch 48/400\n",
            "3/3 [==============================] - 0s 13ms/step - loss: 2.5263 - accuracy: 0.2500\n",
            "Epoch 49/400\n",
            "3/3 [==============================] - 0s 11ms/step - loss: 2.5137 - accuracy: 0.2500\n",
            "Epoch 50/400\n",
            "3/3 [==============================] - 0s 10ms/step - loss: 2.5014 - accuracy: 0.2500\n",
            "Epoch 51/400\n",
            "3/3 [==============================] - 0s 11ms/step - loss: 2.4875 - accuracy: 0.2500\n",
            "Epoch 52/400\n",
            "3/3 [==============================] - 0s 11ms/step - loss: 2.4750 - accuracy: 0.2625\n",
            "Epoch 53/400\n",
            "3/3 [==============================] - 0s 10ms/step - loss: 2.4613 - accuracy: 0.2750\n",
            "Epoch 54/400\n",
            "3/3 [==============================] - 0s 10ms/step - loss: 2.4496 - accuracy: 0.2625\n",
            "Epoch 55/400\n",
            "3/3 [==============================] - 0s 10ms/step - loss: 2.4364 - accuracy: 0.2625\n",
            "Epoch 56/400\n",
            "3/3 [==============================] - 0s 11ms/step - loss: 2.4239 - accuracy: 0.2625\n",
            "Epoch 57/400\n",
            "3/3 [==============================] - 0s 11ms/step - loss: 2.4130 - accuracy: 0.2625\n",
            "Epoch 58/400\n",
            "3/3 [==============================] - 0s 11ms/step - loss: 2.3992 - accuracy: 0.2625\n",
            "Epoch 59/400\n",
            "3/3 [==============================] - 0s 10ms/step - loss: 2.3875 - accuracy: 0.2625\n",
            "Epoch 60/400\n",
            "3/3 [==============================] - 0s 10ms/step - loss: 2.3748 - accuracy: 0.2625\n",
            "Epoch 61/400\n",
            "3/3 [==============================] - 0s 11ms/step - loss: 2.3628 - accuracy: 0.2625\n",
            "Epoch 62/400\n",
            "3/3 [==============================] - 0s 10ms/step - loss: 2.3501 - accuracy: 0.2625\n",
            "Epoch 63/400\n",
            "3/3 [==============================] - 0s 11ms/step - loss: 2.3380 - accuracy: 0.2500\n",
            "Epoch 64/400\n",
            "3/3 [==============================] - 0s 10ms/step - loss: 2.3244 - accuracy: 0.2500\n",
            "Epoch 65/400\n",
            "3/3 [==============================] - 0s 10ms/step - loss: 2.3109 - accuracy: 0.2500\n",
            "Epoch 66/400\n",
            "3/3 [==============================] - 0s 15ms/step - loss: 2.2990 - accuracy: 0.2500\n",
            "Epoch 67/400\n",
            "3/3 [==============================] - 0s 11ms/step - loss: 2.2869 - accuracy: 0.2500\n",
            "Epoch 68/400\n",
            "3/3 [==============================] - 0s 10ms/step - loss: 2.2727 - accuracy: 0.2625\n",
            "Epoch 69/400\n",
            "3/3 [==============================] - 0s 10ms/step - loss: 2.2604 - accuracy: 0.2625\n",
            "Epoch 70/400\n",
            "3/3 [==============================] - 0s 10ms/step - loss: 2.2471 - accuracy: 0.2625\n",
            "Epoch 71/400\n",
            "3/3 [==============================] - 0s 10ms/step - loss: 2.2341 - accuracy: 0.2625\n",
            "Epoch 72/400\n",
            "3/3 [==============================] - 0s 10ms/step - loss: 2.2202 - accuracy: 0.2625\n",
            "Epoch 73/400\n",
            "3/3 [==============================] - 0s 13ms/step - loss: 2.2078 - accuracy: 0.2625\n",
            "Epoch 74/400\n",
            "3/3 [==============================] - 0s 10ms/step - loss: 2.1948 - accuracy: 0.2625\n",
            "Epoch 75/400\n",
            "3/3 [==============================] - 0s 11ms/step - loss: 2.1808 - accuracy: 0.2625\n",
            "Epoch 76/400\n",
            "3/3 [==============================] - 0s 11ms/step - loss: 2.1676 - accuracy: 0.2750\n",
            "Epoch 77/400\n",
            "3/3 [==============================] - 0s 10ms/step - loss: 2.1540 - accuracy: 0.2750\n",
            "Epoch 78/400\n",
            "3/3 [==============================] - 0s 9ms/step - loss: 2.1404 - accuracy: 0.2750\n",
            "Epoch 79/400\n",
            "3/3 [==============================] - 0s 10ms/step - loss: 2.1271 - accuracy: 0.2875\n",
            "Epoch 80/400\n",
            "3/3 [==============================] - 0s 11ms/step - loss: 2.1142 - accuracy: 0.3250\n",
            "Epoch 81/400\n",
            "3/3 [==============================] - 0s 10ms/step - loss: 2.1007 - accuracy: 0.3375\n",
            "Epoch 82/400\n",
            "3/3 [==============================] - 0s 10ms/step - loss: 2.0870 - accuracy: 0.3375\n",
            "Epoch 83/400\n",
            "3/3 [==============================] - 0s 10ms/step - loss: 2.0739 - accuracy: 0.3375\n",
            "Epoch 84/400\n",
            "3/3 [==============================] - 0s 10ms/step - loss: 2.0611 - accuracy: 0.3375\n",
            "Epoch 85/400\n",
            "3/3 [==============================] - 0s 10ms/step - loss: 2.0475 - accuracy: 0.3500\n",
            "Epoch 86/400\n",
            "3/3 [==============================] - 0s 10ms/step - loss: 2.0336 - accuracy: 0.3500\n",
            "Epoch 87/400\n",
            "3/3 [==============================] - 0s 19ms/step - loss: 2.0204 - accuracy: 0.3500\n",
            "Epoch 88/400\n",
            "3/3 [==============================] - 0s 11ms/step - loss: 2.0078 - accuracy: 0.3625\n",
            "Epoch 89/400\n",
            "3/3 [==============================] - 0s 10ms/step - loss: 1.9946 - accuracy: 0.3500\n",
            "Epoch 90/400\n",
            "3/3 [==============================] - 0s 10ms/step - loss: 1.9803 - accuracy: 0.3875\n",
            "Epoch 91/400\n",
            "3/3 [==============================] - 0s 10ms/step - loss: 1.9688 - accuracy: 0.3875\n",
            "Epoch 92/400\n",
            "3/3 [==============================] - 0s 11ms/step - loss: 1.9547 - accuracy: 0.3750\n",
            "Epoch 93/400\n",
            "3/3 [==============================] - 0s 11ms/step - loss: 1.9422 - accuracy: 0.3750\n",
            "Epoch 94/400\n",
            "3/3 [==============================] - 0s 9ms/step - loss: 1.9299 - accuracy: 0.3750\n",
            "Epoch 95/400\n",
            "3/3 [==============================] - 0s 9ms/step - loss: 1.9156 - accuracy: 0.4000\n",
            "Epoch 96/400\n",
            "3/3 [==============================] - 0s 9ms/step - loss: 1.9037 - accuracy: 0.4000\n",
            "Epoch 97/400\n",
            "3/3 [==============================] - 0s 9ms/step - loss: 1.8892 - accuracy: 0.4000\n",
            "Epoch 98/400\n",
            "3/3 [==============================] - 0s 11ms/step - loss: 1.8785 - accuracy: 0.4000\n",
            "Epoch 99/400\n",
            "3/3 [==============================] - 0s 9ms/step - loss: 1.8630 - accuracy: 0.4125\n",
            "Epoch 100/400\n",
            "3/3 [==============================] - 0s 9ms/step - loss: 1.8526 - accuracy: 0.4125\n",
            "Epoch 101/400\n",
            "3/3 [==============================] - 0s 9ms/step - loss: 1.8383 - accuracy: 0.3875\n",
            "Epoch 102/400\n",
            "3/3 [==============================] - 0s 9ms/step - loss: 1.8249 - accuracy: 0.4125\n",
            "Epoch 103/400\n",
            "3/3 [==============================] - 0s 10ms/step - loss: 1.8130 - accuracy: 0.4125\n",
            "Epoch 104/400\n",
            "3/3 [==============================] - 0s 12ms/step - loss: 1.8021 - accuracy: 0.4250\n",
            "Epoch 105/400\n",
            "3/3 [==============================] - 0s 9ms/step - loss: 1.7880 - accuracy: 0.4125\n",
            "Epoch 106/400\n",
            "3/3 [==============================] - 0s 12ms/step - loss: 1.7764 - accuracy: 0.4375\n",
            "Epoch 107/400\n",
            "3/3 [==============================] - 0s 10ms/step - loss: 1.7633 - accuracy: 0.4375\n",
            "Epoch 108/400\n",
            "3/3 [==============================] - 0s 9ms/step - loss: 1.7512 - accuracy: 0.4625\n",
            "Epoch 109/400\n",
            "3/3 [==============================] - 0s 8ms/step - loss: 1.7400 - accuracy: 0.4750\n",
            "Epoch 110/400\n",
            "3/3 [==============================] - 0s 8ms/step - loss: 1.7279 - accuracy: 0.4500\n",
            "Epoch 111/400\n",
            "3/3 [==============================] - 0s 9ms/step - loss: 1.7166 - accuracy: 0.4500\n",
            "Epoch 112/400\n",
            "3/3 [==============================] - 0s 9ms/step - loss: 1.7045 - accuracy: 0.4625\n",
            "Epoch 113/400\n",
            "3/3 [==============================] - 0s 10ms/step - loss: 1.6938 - accuracy: 0.4875\n",
            "Epoch 114/400\n",
            "3/3 [==============================] - 0s 11ms/step - loss: 1.6810 - accuracy: 0.4750\n",
            "Epoch 115/400\n",
            "3/3 [==============================] - 0s 9ms/step - loss: 1.6697 - accuracy: 0.5125\n",
            "Epoch 116/400\n",
            "3/3 [==============================] - 0s 9ms/step - loss: 1.6583 - accuracy: 0.5125\n",
            "Epoch 117/400\n",
            "3/3 [==============================] - 0s 9ms/step - loss: 1.6481 - accuracy: 0.5125\n",
            "Epoch 118/400\n",
            "3/3 [==============================] - 0s 9ms/step - loss: 1.6361 - accuracy: 0.5000\n",
            "Epoch 119/400\n",
            "3/3 [==============================] - 0s 10ms/step - loss: 1.6250 - accuracy: 0.5000\n",
            "Epoch 120/400\n",
            "3/3 [==============================] - 0s 8ms/step - loss: 1.6144 - accuracy: 0.5250\n",
            "Epoch 121/400\n",
            "3/3 [==============================] - 0s 12ms/step - loss: 1.6043 - accuracy: 0.5625\n",
            "Epoch 122/400\n",
            "3/3 [==============================] - 0s 13ms/step - loss: 1.5925 - accuracy: 0.5375\n",
            "Epoch 123/400\n",
            "3/3 [==============================] - 0s 12ms/step - loss: 1.5808 - accuracy: 0.5875\n",
            "Epoch 124/400\n",
            "3/3 [==============================] - 0s 11ms/step - loss: 1.5701 - accuracy: 0.5500\n",
            "Epoch 125/400\n",
            "3/3 [==============================] - 0s 20ms/step - loss: 1.5588 - accuracy: 0.5500\n",
            "Epoch 126/400\n",
            "3/3 [==============================] - 0s 15ms/step - loss: 1.5507 - accuracy: 0.5000\n",
            "Epoch 127/400\n",
            "3/3 [==============================] - 0s 14ms/step - loss: 1.5398 - accuracy: 0.5000\n",
            "Epoch 128/400\n",
            "3/3 [==============================] - 0s 14ms/step - loss: 1.5312 - accuracy: 0.5125\n",
            "Epoch 129/400\n",
            "3/3 [==============================] - 0s 14ms/step - loss: 1.5192 - accuracy: 0.5125\n",
            "Epoch 130/400\n",
            "3/3 [==============================] - 0s 14ms/step - loss: 1.5084 - accuracy: 0.5250\n",
            "Epoch 131/400\n",
            "3/3 [==============================] - 0s 16ms/step - loss: 1.4984 - accuracy: 0.5375\n",
            "Epoch 132/400\n",
            "3/3 [==============================] - 0s 19ms/step - loss: 1.4880 - accuracy: 0.5500\n",
            "Epoch 133/400\n",
            "3/3 [==============================] - 0s 20ms/step - loss: 1.4787 - accuracy: 0.5875\n",
            "Epoch 134/400\n",
            "3/3 [==============================] - 0s 10ms/step - loss: 1.4690 - accuracy: 0.5875\n",
            "Epoch 135/400\n",
            "3/3 [==============================] - 0s 14ms/step - loss: 1.4597 - accuracy: 0.5750\n",
            "Epoch 136/400\n",
            "3/3 [==============================] - 0s 13ms/step - loss: 1.4493 - accuracy: 0.5750\n",
            "Epoch 137/400\n",
            "3/3 [==============================] - 0s 11ms/step - loss: 1.4393 - accuracy: 0.5500\n",
            "Epoch 138/400\n",
            "3/3 [==============================] - 0s 10ms/step - loss: 1.4319 - accuracy: 0.5250\n",
            "Epoch 139/400\n",
            "3/3 [==============================] - 0s 11ms/step - loss: 1.4223 - accuracy: 0.5375\n",
            "Epoch 140/400\n",
            "3/3 [==============================] - 0s 12ms/step - loss: 1.4137 - accuracy: 0.5375\n",
            "Epoch 141/400\n",
            "3/3 [==============================] - 0s 11ms/step - loss: 1.4043 - accuracy: 0.5625\n",
            "Epoch 142/400\n",
            "3/3 [==============================] - 0s 11ms/step - loss: 1.3951 - accuracy: 0.6000\n",
            "Epoch 143/400\n",
            "3/3 [==============================] - 0s 11ms/step - loss: 1.3864 - accuracy: 0.5875\n",
            "Epoch 144/400\n",
            "3/3 [==============================] - 0s 11ms/step - loss: 1.3797 - accuracy: 0.5875\n",
            "Epoch 145/400\n",
            "3/3 [==============================] - 0s 11ms/step - loss: 1.3689 - accuracy: 0.5750\n",
            "Epoch 146/400\n",
            "3/3 [==============================] - 0s 14ms/step - loss: 1.3611 - accuracy: 0.6000\n",
            "Epoch 147/400\n",
            "3/3 [==============================] - 0s 14ms/step - loss: 1.3518 - accuracy: 0.6000\n",
            "Epoch 148/400\n",
            "3/3 [==============================] - 0s 12ms/step - loss: 1.3445 - accuracy: 0.6125\n",
            "Epoch 149/400\n",
            "3/3 [==============================] - 0s 13ms/step - loss: 1.3355 - accuracy: 0.6125\n",
            "Epoch 150/400\n",
            "3/3 [==============================] - 0s 11ms/step - loss: 1.3284 - accuracy: 0.6125\n",
            "Epoch 151/400\n",
            "3/3 [==============================] - 0s 11ms/step - loss: 1.3203 - accuracy: 0.6250\n",
            "Epoch 152/400\n",
            "3/3 [==============================] - 0s 11ms/step - loss: 1.3132 - accuracy: 0.6375\n",
            "Epoch 153/400\n",
            "3/3 [==============================] - 0s 11ms/step - loss: 1.3041 - accuracy: 0.6500\n",
            "Epoch 154/400\n",
            "3/3 [==============================] - 0s 10ms/step - loss: 1.2959 - accuracy: 0.6250\n",
            "Epoch 155/400\n",
            "3/3 [==============================] - 0s 10ms/step - loss: 1.2872 - accuracy: 0.6250\n",
            "Epoch 156/400\n",
            "3/3 [==============================] - 0s 11ms/step - loss: 1.2807 - accuracy: 0.6125\n",
            "Epoch 157/400\n",
            "3/3 [==============================] - 0s 10ms/step - loss: 1.2729 - accuracy: 0.6375\n",
            "Epoch 158/400\n",
            "3/3 [==============================] - 0s 10ms/step - loss: 1.2658 - accuracy: 0.6375\n",
            "Epoch 159/400\n",
            "3/3 [==============================] - 0s 10ms/step - loss: 1.2586 - accuracy: 0.6375\n",
            "Epoch 160/400\n",
            "3/3 [==============================] - 0s 10ms/step - loss: 1.2509 - accuracy: 0.6750\n",
            "Epoch 161/400\n",
            "3/3 [==============================] - 0s 11ms/step - loss: 1.2426 - accuracy: 0.7000\n",
            "Epoch 162/400\n",
            "3/3 [==============================] - 0s 10ms/step - loss: 1.2365 - accuracy: 0.7000\n",
            "Epoch 163/400\n",
            "3/3 [==============================] - 0s 10ms/step - loss: 1.2308 - accuracy: 0.6875\n",
            "Epoch 164/400\n",
            "3/3 [==============================] - 0s 10ms/step - loss: 1.2220 - accuracy: 0.6875\n",
            "Epoch 165/400\n",
            "3/3 [==============================] - 0s 12ms/step - loss: 1.2150 - accuracy: 0.6750\n",
            "Epoch 166/400\n",
            "3/3 [==============================] - 0s 11ms/step - loss: 1.2083 - accuracy: 0.6625\n",
            "Epoch 167/400\n",
            "3/3 [==============================] - 0s 11ms/step - loss: 1.2002 - accuracy: 0.6875\n",
            "Epoch 168/400\n",
            "3/3 [==============================] - 0s 12ms/step - loss: 1.1940 - accuracy: 0.6750\n",
            "Epoch 169/400\n",
            "3/3 [==============================] - 0s 11ms/step - loss: 1.1877 - accuracy: 0.6750\n",
            "Epoch 170/400\n",
            "3/3 [==============================] - 0s 14ms/step - loss: 1.1801 - accuracy: 0.6625\n",
            "Epoch 171/400\n",
            "3/3 [==============================] - 0s 11ms/step - loss: 1.1739 - accuracy: 0.6625\n",
            "Epoch 172/400\n",
            "3/3 [==============================] - 0s 11ms/step - loss: 1.1669 - accuracy: 0.6750\n",
            "Epoch 173/400\n",
            "3/3 [==============================] - 0s 11ms/step - loss: 1.1599 - accuracy: 0.7125\n",
            "Epoch 174/400\n",
            "3/3 [==============================] - 0s 10ms/step - loss: 1.1542 - accuracy: 0.6875\n",
            "Epoch 175/400\n",
            "3/3 [==============================] - 0s 13ms/step - loss: 1.1468 - accuracy: 0.6875\n",
            "Epoch 176/400\n",
            "3/3 [==============================] - 0s 11ms/step - loss: 1.1402 - accuracy: 0.6750\n",
            "Epoch 177/400\n",
            "3/3 [==============================] - 0s 12ms/step - loss: 1.1351 - accuracy: 0.6625\n",
            "Epoch 178/400\n",
            "3/3 [==============================] - 0s 11ms/step - loss: 1.1267 - accuracy: 0.6750\n",
            "Epoch 179/400\n",
            "3/3 [==============================] - 0s 12ms/step - loss: 1.1213 - accuracy: 0.6750\n",
            "Epoch 180/400\n",
            "3/3 [==============================] - 0s 10ms/step - loss: 1.1152 - accuracy: 0.6875\n",
            "Epoch 181/400\n",
            "3/3 [==============================] - 0s 10ms/step - loss: 1.1109 - accuracy: 0.6875\n",
            "Epoch 182/400\n",
            "3/3 [==============================] - 0s 10ms/step - loss: 1.1033 - accuracy: 0.6875\n",
            "Epoch 183/400\n",
            "3/3 [==============================] - 0s 15ms/step - loss: 1.0965 - accuracy: 0.7125\n",
            "Epoch 184/400\n",
            "3/3 [==============================] - 0s 12ms/step - loss: 1.0900 - accuracy: 0.7125\n",
            "Epoch 185/400\n",
            "3/3 [==============================] - 0s 10ms/step - loss: 1.0839 - accuracy: 0.7125\n",
            "Epoch 186/400\n",
            "3/3 [==============================] - 0s 11ms/step - loss: 1.0773 - accuracy: 0.7000\n",
            "Epoch 187/400\n",
            "3/3 [==============================] - 0s 12ms/step - loss: 1.0697 - accuracy: 0.7125\n",
            "Epoch 188/400\n",
            "3/3 [==============================] - 0s 11ms/step - loss: 1.0648 - accuracy: 0.7125\n",
            "Epoch 189/400\n",
            "3/3 [==============================] - 0s 13ms/step - loss: 1.0581 - accuracy: 0.7000\n",
            "Epoch 190/400\n",
            "3/3 [==============================] - 0s 12ms/step - loss: 1.0517 - accuracy: 0.6875\n",
            "Epoch 191/400\n",
            "3/3 [==============================] - 0s 12ms/step - loss: 1.0465 - accuracy: 0.6875\n",
            "Epoch 192/400\n",
            "3/3 [==============================] - 0s 11ms/step - loss: 1.0403 - accuracy: 0.6875\n",
            "Epoch 193/400\n",
            "3/3 [==============================] - 0s 11ms/step - loss: 1.0338 - accuracy: 0.7250\n",
            "Epoch 194/400\n",
            "3/3 [==============================] - 0s 14ms/step - loss: 1.0273 - accuracy: 0.7375\n",
            "Epoch 195/400\n",
            "3/3 [==============================] - 0s 11ms/step - loss: 1.0222 - accuracy: 0.7375\n",
            "Epoch 196/400\n",
            "3/3 [==============================] - 0s 11ms/step - loss: 1.0150 - accuracy: 0.7500\n",
            "Epoch 197/400\n",
            "3/3 [==============================] - 0s 11ms/step - loss: 1.0092 - accuracy: 0.7500\n",
            "Epoch 198/400\n",
            "3/3 [==============================] - 0s 13ms/step - loss: 1.0041 - accuracy: 0.7625\n",
            "Epoch 199/400\n",
            "3/3 [==============================] - 0s 10ms/step - loss: 0.9984 - accuracy: 0.7625\n",
            "Epoch 200/400\n",
            "3/3 [==============================] - 0s 11ms/step - loss: 0.9913 - accuracy: 0.7875\n",
            "Epoch 201/400\n",
            "3/3 [==============================] - 0s 11ms/step - loss: 0.9853 - accuracy: 0.7875\n",
            "Epoch 202/400\n",
            "3/3 [==============================] - 0s 11ms/step - loss: 0.9784 - accuracy: 0.8000\n",
            "Epoch 203/400\n",
            "3/3 [==============================] - 0s 14ms/step - loss: 0.9722 - accuracy: 0.7875\n",
            "Epoch 204/400\n",
            "3/3 [==============================] - 0s 12ms/step - loss: 0.9663 - accuracy: 0.8000\n",
            "Epoch 205/400\n",
            "3/3 [==============================] - 0s 11ms/step - loss: 0.9603 - accuracy: 0.8000\n",
            "Epoch 206/400\n",
            "3/3 [==============================] - 0s 10ms/step - loss: 0.9540 - accuracy: 0.8125\n",
            "Epoch 207/400\n",
            "3/3 [==============================] - 0s 11ms/step - loss: 0.9486 - accuracy: 0.8125\n",
            "Epoch 208/400\n",
            "3/3 [==============================] - 0s 16ms/step - loss: 0.9429 - accuracy: 0.8125\n",
            "Epoch 209/400\n",
            "3/3 [==============================] - 0s 11ms/step - loss: 0.9353 - accuracy: 0.8125\n",
            "Epoch 210/400\n",
            "3/3 [==============================] - 0s 11ms/step - loss: 0.9305 - accuracy: 0.8000\n",
            "Epoch 211/400\n",
            "3/3 [==============================] - 0s 12ms/step - loss: 0.9248 - accuracy: 0.8000\n",
            "Epoch 212/400\n",
            "3/3 [==============================] - 0s 10ms/step - loss: 0.9171 - accuracy: 0.8125\n",
            "Epoch 213/400\n",
            "3/3 [==============================] - 0s 9ms/step - loss: 0.9122 - accuracy: 0.8125\n",
            "Epoch 214/400\n",
            "3/3 [==============================] - 0s 10ms/step - loss: 0.9067 - accuracy: 0.8125\n",
            "Epoch 215/400\n",
            "3/3 [==============================] - 0s 10ms/step - loss: 0.8994 - accuracy: 0.8000\n",
            "Epoch 216/400\n",
            "3/3 [==============================] - 0s 10ms/step - loss: 0.8928 - accuracy: 0.8250\n",
            "Epoch 217/400\n",
            "3/3 [==============================] - 0s 12ms/step - loss: 0.8878 - accuracy: 0.8125\n",
            "Epoch 218/400\n",
            "3/3 [==============================] - 0s 10ms/step - loss: 0.8809 - accuracy: 0.8125\n",
            "Epoch 219/400\n",
            "3/3 [==============================] - 0s 10ms/step - loss: 0.8748 - accuracy: 0.8000\n",
            "Epoch 220/400\n",
            "3/3 [==============================] - 0s 11ms/step - loss: 0.8691 - accuracy: 0.8000\n",
            "Epoch 221/400\n",
            "3/3 [==============================] - 0s 9ms/step - loss: 0.8639 - accuracy: 0.8125\n",
            "Epoch 222/400\n",
            "3/3 [==============================] - 0s 10ms/step - loss: 0.8585 - accuracy: 0.8125\n",
            "Epoch 223/400\n",
            "3/3 [==============================] - 0s 11ms/step - loss: 0.8528 - accuracy: 0.8250\n",
            "Epoch 224/400\n",
            "3/3 [==============================] - 0s 18ms/step - loss: 0.8456 - accuracy: 0.8500\n",
            "Epoch 225/400\n",
            "3/3 [==============================] - 0s 9ms/step - loss: 0.8401 - accuracy: 0.8500\n",
            "Epoch 226/400\n",
            "3/3 [==============================] - 0s 10ms/step - loss: 0.8339 - accuracy: 0.8625\n",
            "Epoch 227/400\n",
            "3/3 [==============================] - 0s 12ms/step - loss: 0.8276 - accuracy: 0.8625\n",
            "Epoch 228/400\n",
            "3/3 [==============================] - 0s 9ms/step - loss: 0.8215 - accuracy: 0.8500\n",
            "Epoch 229/400\n",
            "3/3 [==============================] - 0s 14ms/step - loss: 0.8161 - accuracy: 0.8500\n",
            "Epoch 230/400\n",
            "3/3 [==============================] - 0s 9ms/step - loss: 0.8107 - accuracy: 0.8500\n",
            "Epoch 231/400\n",
            "3/3 [==============================] - 0s 9ms/step - loss: 0.8054 - accuracy: 0.8500\n",
            "Epoch 232/400\n",
            "3/3 [==============================] - 0s 10ms/step - loss: 0.7983 - accuracy: 0.8625\n",
            "Epoch 233/400\n",
            "3/3 [==============================] - 0s 10ms/step - loss: 0.7930 - accuracy: 0.8625\n",
            "Epoch 234/400\n",
            "3/3 [==============================] - 0s 8ms/step - loss: 0.7875 - accuracy: 0.8500\n",
            "Epoch 235/400\n",
            "3/3 [==============================] - 0s 9ms/step - loss: 0.7810 - accuracy: 0.8500\n",
            "Epoch 236/400\n",
            "3/3 [==============================] - 0s 9ms/step - loss: 0.7752 - accuracy: 0.8500\n",
            "Epoch 237/400\n",
            "3/3 [==============================] - 0s 9ms/step - loss: 0.7705 - accuracy: 0.8625\n",
            "Epoch 238/400\n",
            "3/3 [==============================] - 0s 9ms/step - loss: 0.7644 - accuracy: 0.8875\n",
            "Epoch 239/400\n",
            "3/3 [==============================] - 0s 8ms/step - loss: 0.7598 - accuracy: 0.9125\n",
            "Epoch 240/400\n",
            "3/3 [==============================] - 0s 9ms/step - loss: 0.7545 - accuracy: 0.9000\n",
            "Epoch 241/400\n",
            "3/3 [==============================] - 0s 9ms/step - loss: 0.7477 - accuracy: 0.9000\n",
            "Epoch 242/400\n",
            "3/3 [==============================] - 0s 9ms/step - loss: 0.7425 - accuracy: 0.8750\n",
            "Epoch 243/400\n",
            "3/3 [==============================] - 0s 8ms/step - loss: 0.7376 - accuracy: 0.8625\n",
            "Epoch 244/400\n",
            "3/3 [==============================] - 0s 9ms/step - loss: 0.7313 - accuracy: 0.8625\n",
            "Epoch 245/400\n",
            "3/3 [==============================] - 0s 10ms/step - loss: 0.7258 - accuracy: 0.8625\n",
            "Epoch 246/400\n",
            "3/3 [==============================] - 0s 10ms/step - loss: 0.7207 - accuracy: 0.8625\n",
            "Epoch 247/400\n",
            "3/3 [==============================] - 0s 14ms/step - loss: 0.7155 - accuracy: 0.8625\n",
            "Epoch 248/400\n",
            "3/3 [==============================] - 0s 9ms/step - loss: 0.7109 - accuracy: 0.8625\n",
            "Epoch 249/400\n",
            "3/3 [==============================] - 0s 13ms/step - loss: 0.7062 - accuracy: 0.8750\n",
            "Epoch 250/400\n",
            "3/3 [==============================] - 0s 10ms/step - loss: 0.7000 - accuracy: 0.9000\n",
            "Epoch 251/400\n",
            "3/3 [==============================] - 0s 9ms/step - loss: 0.6954 - accuracy: 0.9000\n",
            "Epoch 252/400\n",
            "3/3 [==============================] - 0s 11ms/step - loss: 0.6900 - accuracy: 0.8875\n",
            "Epoch 253/400\n",
            "3/3 [==============================] - 0s 10ms/step - loss: 0.6851 - accuracy: 0.8750\n",
            "Epoch 254/400\n",
            "3/3 [==============================] - 0s 10ms/step - loss: 0.6808 - accuracy: 0.8875\n",
            "Epoch 255/400\n",
            "3/3 [==============================] - 0s 10ms/step - loss: 0.6750 - accuracy: 0.9000\n",
            "Epoch 256/400\n",
            "3/3 [==============================] - 0s 10ms/step - loss: 0.6699 - accuracy: 0.9375\n",
            "Epoch 257/400\n",
            "3/3 [==============================] - 0s 9ms/step - loss: 0.6648 - accuracy: 0.9375\n",
            "Epoch 258/400\n",
            "3/3 [==============================] - 0s 9ms/step - loss: 0.6597 - accuracy: 0.9000\n",
            "Epoch 259/400\n",
            "3/3 [==============================] - 0s 9ms/step - loss: 0.6549 - accuracy: 0.9250\n",
            "Epoch 260/400\n",
            "3/3 [==============================] - 0s 11ms/step - loss: 0.6498 - accuracy: 0.9375\n",
            "Epoch 261/400\n",
            "3/3 [==============================] - 0s 8ms/step - loss: 0.6464 - accuracy: 0.9250\n",
            "Epoch 262/400\n",
            "3/3 [==============================] - 0s 10ms/step - loss: 0.6404 - accuracy: 0.9250\n",
            "Epoch 263/400\n",
            "3/3 [==============================] - 0s 11ms/step - loss: 0.6364 - accuracy: 0.9500\n",
            "Epoch 264/400\n",
            "3/3 [==============================] - 0s 10ms/step - loss: 0.6306 - accuracy: 0.9375\n",
            "Epoch 265/400\n",
            "3/3 [==============================] - 0s 9ms/step - loss: 0.6259 - accuracy: 0.9375\n",
            "Epoch 266/400\n",
            "3/3 [==============================] - 0s 9ms/step - loss: 0.6211 - accuracy: 0.9375\n",
            "Epoch 267/400\n",
            "3/3 [==============================] - 0s 10ms/step - loss: 0.6164 - accuracy: 0.9375\n",
            "Epoch 268/400\n",
            "3/3 [==============================] - 0s 18ms/step - loss: 0.6109 - accuracy: 0.9500\n",
            "Epoch 269/400\n",
            "3/3 [==============================] - 0s 16ms/step - loss: 0.6075 - accuracy: 0.9500\n",
            "Epoch 270/400\n",
            "3/3 [==============================] - 0s 18ms/step - loss: 0.6022 - accuracy: 0.9500\n",
            "Epoch 271/400\n",
            "3/3 [==============================] - 0s 17ms/step - loss: 0.5979 - accuracy: 0.9500\n",
            "Epoch 272/400\n",
            "3/3 [==============================] - 0s 15ms/step - loss: 0.5932 - accuracy: 0.9500\n",
            "Epoch 273/400\n",
            "3/3 [==============================] - 0s 16ms/step - loss: 0.5894 - accuracy: 0.9500\n",
            "Epoch 274/400\n",
            "3/3 [==============================] - 0s 11ms/step - loss: 0.5849 - accuracy: 0.9500\n",
            "Epoch 275/400\n",
            "3/3 [==============================] - 0s 15ms/step - loss: 0.5808 - accuracy: 0.9625\n",
            "Epoch 276/400\n",
            "3/3 [==============================] - 0s 23ms/step - loss: 0.5761 - accuracy: 0.9625\n",
            "Epoch 277/400\n",
            "3/3 [==============================] - 0s 17ms/step - loss: 0.5724 - accuracy: 0.9750\n",
            "Epoch 278/400\n",
            "3/3 [==============================] - 0s 13ms/step - loss: 0.5675 - accuracy: 0.9625\n",
            "Epoch 279/400\n",
            "3/3 [==============================] - 0s 14ms/step - loss: 0.5641 - accuracy: 0.9625\n",
            "Epoch 280/400\n",
            "3/3 [==============================] - 0s 18ms/step - loss: 0.5603 - accuracy: 0.9750\n",
            "Epoch 281/400\n",
            "3/3 [==============================] - 0s 18ms/step - loss: 0.5547 - accuracy: 0.9625\n",
            "Epoch 282/400\n",
            "3/3 [==============================] - 0s 19ms/step - loss: 0.5504 - accuracy: 0.9625\n",
            "Epoch 283/400\n",
            "3/3 [==============================] - 0s 13ms/step - loss: 0.5471 - accuracy: 0.9625\n",
            "Epoch 284/400\n",
            "3/3 [==============================] - 0s 12ms/step - loss: 0.5435 - accuracy: 0.9625\n",
            "Epoch 285/400\n",
            "3/3 [==============================] - 0s 15ms/step - loss: 0.5393 - accuracy: 0.9625\n",
            "Epoch 286/400\n",
            "3/3 [==============================] - 0s 16ms/step - loss: 0.5350 - accuracy: 0.9750\n",
            "Epoch 287/400\n",
            "3/3 [==============================] - 0s 12ms/step - loss: 0.5311 - accuracy: 0.9750\n",
            "Epoch 288/400\n",
            "3/3 [==============================] - 0s 13ms/step - loss: 0.5270 - accuracy: 0.9750\n",
            "Epoch 289/400\n",
            "3/3 [==============================] - 0s 17ms/step - loss: 0.5224 - accuracy: 0.9625\n",
            "Epoch 290/400\n",
            "3/3 [==============================] - 0s 11ms/step - loss: 0.5184 - accuracy: 0.9625\n",
            "Epoch 291/400\n",
            "3/3 [==============================] - 0s 21ms/step - loss: 0.5151 - accuracy: 0.9625\n",
            "Epoch 292/400\n",
            "3/3 [==============================] - 0s 18ms/step - loss: 0.5107 - accuracy: 0.9625\n",
            "Epoch 293/400\n",
            "3/3 [==============================] - 0s 15ms/step - loss: 0.5068 - accuracy: 0.9625\n",
            "Epoch 294/400\n",
            "3/3 [==============================] - 0s 19ms/step - loss: 0.5028 - accuracy: 0.9625\n",
            "Epoch 295/400\n",
            "3/3 [==============================] - 0s 12ms/step - loss: 0.4985 - accuracy: 0.9625\n",
            "Epoch 296/400\n",
            "3/3 [==============================] - 0s 18ms/step - loss: 0.4946 - accuracy: 0.9625\n",
            "Epoch 297/400\n",
            "3/3 [==============================] - 0s 16ms/step - loss: 0.4908 - accuracy: 0.9625\n",
            "Epoch 298/400\n",
            "3/3 [==============================] - 0s 13ms/step - loss: 0.4872 - accuracy: 0.9625\n",
            "Epoch 299/400\n",
            "3/3 [==============================] - 0s 12ms/step - loss: 0.4831 - accuracy: 0.9750\n",
            "Epoch 300/400\n",
            "3/3 [==============================] - 0s 15ms/step - loss: 0.4794 - accuracy: 0.9750\n",
            "Epoch 301/400\n",
            "3/3 [==============================] - 0s 15ms/step - loss: 0.4757 - accuracy: 0.9750\n",
            "Epoch 302/400\n",
            "3/3 [==============================] - 0s 12ms/step - loss: 0.4727 - accuracy: 0.9750\n",
            "Epoch 303/400\n",
            "3/3 [==============================] - 0s 19ms/step - loss: 0.4683 - accuracy: 0.9750\n",
            "Epoch 304/400\n",
            "3/3 [==============================] - 0s 20ms/step - loss: 0.4645 - accuracy: 0.9750\n",
            "Epoch 305/400\n",
            "3/3 [==============================] - 0s 16ms/step - loss: 0.4610 - accuracy: 0.9625\n",
            "Epoch 306/400\n",
            "3/3 [==============================] - 0s 13ms/step - loss: 0.4581 - accuracy: 0.9625\n",
            "Epoch 307/400\n",
            "3/3 [==============================] - 0s 13ms/step - loss: 0.4537 - accuracy: 0.9625\n",
            "Epoch 308/400\n",
            "3/3 [==============================] - 0s 15ms/step - loss: 0.4500 - accuracy: 0.9750\n",
            "Epoch 309/400\n",
            "3/3 [==============================] - 0s 14ms/step - loss: 0.4466 - accuracy: 0.9750\n",
            "Epoch 310/400\n",
            "3/3 [==============================] - 0s 14ms/step - loss: 0.4426 - accuracy: 0.9750\n",
            "Epoch 311/400\n",
            "3/3 [==============================] - 0s 14ms/step - loss: 0.4393 - accuracy: 0.9875\n",
            "Epoch 312/400\n",
            "3/3 [==============================] - 0s 12ms/step - loss: 0.4357 - accuracy: 0.9875\n",
            "Epoch 313/400\n",
            "3/3 [==============================] - 0s 15ms/step - loss: 0.4324 - accuracy: 0.9875\n",
            "Epoch 314/400\n",
            "3/3 [==============================] - 0s 11ms/step - loss: 0.4297 - accuracy: 0.9875\n",
            "Epoch 315/400\n",
            "3/3 [==============================] - 0s 13ms/step - loss: 0.4268 - accuracy: 0.9875\n",
            "Epoch 316/400\n",
            "3/3 [==============================] - 0s 11ms/step - loss: 0.4236 - accuracy: 0.9875\n",
            "Epoch 317/400\n",
            "3/3 [==============================] - 0s 16ms/step - loss: 0.4196 - accuracy: 0.9875\n",
            "Epoch 318/400\n",
            "3/3 [==============================] - 0s 13ms/step - loss: 0.4165 - accuracy: 0.9875\n",
            "Epoch 319/400\n",
            "3/3 [==============================] - 0s 11ms/step - loss: 0.4127 - accuracy: 0.9875\n",
            "Epoch 320/400\n",
            "3/3 [==============================] - 0s 21ms/step - loss: 0.4096 - accuracy: 0.9875\n",
            "Epoch 321/400\n",
            "3/3 [==============================] - 0s 16ms/step - loss: 0.4058 - accuracy: 0.9875\n",
            "Epoch 322/400\n",
            "3/3 [==============================] - 0s 14ms/step - loss: 0.4020 - accuracy: 0.9875\n",
            "Epoch 323/400\n",
            "3/3 [==============================] - 0s 14ms/step - loss: 0.3996 - accuracy: 0.9875\n",
            "Epoch 324/400\n",
            "3/3 [==============================] - 0s 14ms/step - loss: 0.3958 - accuracy: 0.9875\n",
            "Epoch 325/400\n",
            "3/3 [==============================] - 0s 21ms/step - loss: 0.3924 - accuracy: 0.9875\n",
            "Epoch 326/400\n",
            "3/3 [==============================] - 0s 30ms/step - loss: 0.3899 - accuracy: 0.9875\n",
            "Epoch 327/400\n",
            "3/3 [==============================] - 0s 24ms/step - loss: 0.3864 - accuracy: 0.9875\n",
            "Epoch 328/400\n",
            "3/3 [==============================] - 0s 17ms/step - loss: 0.3837 - accuracy: 0.9750\n",
            "Epoch 329/400\n",
            "3/3 [==============================] - 0s 19ms/step - loss: 0.3813 - accuracy: 0.9750\n",
            "Epoch 330/400\n",
            "3/3 [==============================] - 0s 21ms/step - loss: 0.3779 - accuracy: 0.9750\n",
            "Epoch 331/400\n",
            "3/3 [==============================] - 0s 15ms/step - loss: 0.3749 - accuracy: 0.9750\n",
            "Epoch 332/400\n",
            "3/3 [==============================] - 0s 21ms/step - loss: 0.3714 - accuracy: 0.9875\n",
            "Epoch 333/400\n",
            "3/3 [==============================] - 0s 21ms/step - loss: 0.3687 - accuracy: 0.9875\n",
            "Epoch 334/400\n",
            "3/3 [==============================] - 0s 17ms/step - loss: 0.3657 - accuracy: 0.9875\n",
            "Epoch 335/400\n",
            "3/3 [==============================] - 0s 21ms/step - loss: 0.3627 - accuracy: 0.9750\n",
            "Epoch 336/400\n",
            "3/3 [==============================] - 0s 19ms/step - loss: 0.3596 - accuracy: 0.9750\n",
            "Epoch 337/400\n",
            "3/3 [==============================] - 0s 14ms/step - loss: 0.3570 - accuracy: 0.9750\n",
            "Epoch 338/400\n",
            "3/3 [==============================] - 0s 12ms/step - loss: 0.3536 - accuracy: 0.9750\n",
            "Epoch 339/400\n",
            "3/3 [==============================] - 0s 17ms/step - loss: 0.3503 - accuracy: 0.9750\n",
            "Epoch 340/400\n",
            "3/3 [==============================] - 0s 21ms/step - loss: 0.3474 - accuracy: 0.9750\n",
            "Epoch 341/400\n",
            "3/3 [==============================] - 0s 20ms/step - loss: 0.3442 - accuracy: 0.9750\n",
            "Epoch 342/400\n",
            "3/3 [==============================] - 0s 13ms/step - loss: 0.3411 - accuracy: 0.9750\n",
            "Epoch 343/400\n",
            "3/3 [==============================] - 0s 21ms/step - loss: 0.3383 - accuracy: 0.9750\n",
            "Epoch 344/400\n",
            "3/3 [==============================] - 0s 18ms/step - loss: 0.3354 - accuracy: 0.9875\n",
            "Epoch 345/400\n",
            "3/3 [==============================] - 0s 22ms/step - loss: 0.3326 - accuracy: 0.9875\n",
            "Epoch 346/400\n",
            "3/3 [==============================] - 0s 16ms/step - loss: 0.3292 - accuracy: 0.9875\n",
            "Epoch 347/400\n",
            "3/3 [==============================] - 0s 21ms/step - loss: 0.3264 - accuracy: 0.9875\n",
            "Epoch 348/400\n",
            "3/3 [==============================] - 0s 14ms/step - loss: 0.3238 - accuracy: 0.9875\n",
            "Epoch 349/400\n",
            "3/3 [==============================] - 0s 16ms/step - loss: 0.3210 - accuracy: 0.9875\n",
            "Epoch 350/400\n",
            "3/3 [==============================] - 0s 16ms/step - loss: 0.3186 - accuracy: 0.9875\n",
            "Epoch 351/400\n",
            "3/3 [==============================] - 0s 17ms/step - loss: 0.3155 - accuracy: 0.9875\n",
            "Epoch 352/400\n",
            "3/3 [==============================] - 0s 14ms/step - loss: 0.3126 - accuracy: 1.0000\n",
            "Epoch 353/400\n",
            "3/3 [==============================] - 0s 16ms/step - loss: 0.3097 - accuracy: 1.0000\n",
            "Epoch 354/400\n",
            "3/3 [==============================] - 0s 28ms/step - loss: 0.3072 - accuracy: 1.0000\n",
            "Epoch 355/400\n",
            "3/3 [==============================] - 0s 14ms/step - loss: 0.3043 - accuracy: 1.0000\n",
            "Epoch 356/400\n",
            "3/3 [==============================] - 0s 30ms/step - loss: 0.3018 - accuracy: 1.0000\n",
            "Epoch 357/400\n",
            "3/3 [==============================] - 0s 15ms/step - loss: 0.2993 - accuracy: 1.0000\n",
            "Epoch 358/400\n",
            "3/3 [==============================] - 0s 13ms/step - loss: 0.2964 - accuracy: 1.0000\n",
            "Epoch 359/400\n",
            "3/3 [==============================] - 0s 20ms/step - loss: 0.2942 - accuracy: 1.0000\n",
            "Epoch 360/400\n",
            "3/3 [==============================] - 0s 17ms/step - loss: 0.2921 - accuracy: 1.0000\n",
            "Epoch 361/400\n",
            "3/3 [==============================] - 0s 16ms/step - loss: 0.2889 - accuracy: 1.0000\n",
            "Epoch 362/400\n",
            "3/3 [==============================] - 0s 16ms/step - loss: 0.2866 - accuracy: 1.0000\n",
            "Epoch 363/400\n",
            "3/3 [==============================] - 0s 35ms/step - loss: 0.2842 - accuracy: 1.0000\n",
            "Epoch 364/400\n",
            "3/3 [==============================] - 0s 13ms/step - loss: 0.2817 - accuracy: 1.0000\n",
            "Epoch 365/400\n",
            "3/3 [==============================] - 0s 23ms/step - loss: 0.2792 - accuracy: 1.0000\n",
            "Epoch 366/400\n",
            "3/3 [==============================] - 0s 15ms/step - loss: 0.2769 - accuracy: 1.0000\n",
            "Epoch 367/400\n",
            "3/3 [==============================] - 0s 13ms/step - loss: 0.2746 - accuracy: 1.0000\n",
            "Epoch 368/400\n",
            "3/3 [==============================] - 0s 20ms/step - loss: 0.2724 - accuracy: 1.0000\n",
            "Epoch 369/400\n",
            "3/3 [==============================] - 0s 13ms/step - loss: 0.2701 - accuracy: 1.0000\n",
            "Epoch 370/400\n",
            "3/3 [==============================] - 0s 29ms/step - loss: 0.2677 - accuracy: 1.0000\n",
            "Epoch 371/400\n",
            "3/3 [==============================] - 0s 18ms/step - loss: 0.2654 - accuracy: 1.0000\n",
            "Epoch 372/400\n",
            "3/3 [==============================] - 0s 29ms/step - loss: 0.2634 - accuracy: 1.0000\n",
            "Epoch 373/400\n",
            "3/3 [==============================] - 0s 12ms/step - loss: 0.2613 - accuracy: 1.0000\n",
            "Epoch 374/400\n",
            "3/3 [==============================] - 0s 14ms/step - loss: 0.2592 - accuracy: 1.0000\n",
            "Epoch 375/400\n",
            "3/3 [==============================] - 0s 10ms/step - loss: 0.2568 - accuracy: 1.0000\n",
            "Epoch 376/400\n",
            "3/3 [==============================] - 0s 20ms/step - loss: 0.2548 - accuracy: 1.0000\n",
            "Epoch 377/400\n",
            "3/3 [==============================] - 0s 20ms/step - loss: 0.2525 - accuracy: 1.0000\n",
            "Epoch 378/400\n",
            "3/3 [==============================] - 0s 13ms/step - loss: 0.2507 - accuracy: 1.0000\n",
            "Epoch 379/400\n",
            "3/3 [==============================] - 0s 14ms/step - loss: 0.2486 - accuracy: 1.0000\n",
            "Epoch 380/400\n",
            "3/3 [==============================] - 0s 13ms/step - loss: 0.2466 - accuracy: 1.0000\n",
            "Epoch 381/400\n",
            "3/3 [==============================] - 0s 17ms/step - loss: 0.2442 - accuracy: 1.0000\n",
            "Epoch 382/400\n",
            "3/3 [==============================] - 0s 28ms/step - loss: 0.2423 - accuracy: 1.0000\n",
            "Epoch 383/400\n",
            "3/3 [==============================] - 0s 18ms/step - loss: 0.2403 - accuracy: 1.0000\n",
            "Epoch 384/400\n",
            "3/3 [==============================] - 0s 16ms/step - loss: 0.2382 - accuracy: 1.0000\n",
            "Epoch 385/400\n",
            "3/3 [==============================] - 0s 16ms/step - loss: 0.2363 - accuracy: 1.0000\n",
            "Epoch 386/400\n",
            "3/3 [==============================] - 0s 14ms/step - loss: 0.2345 - accuracy: 1.0000\n",
            "Epoch 387/400\n",
            "3/3 [==============================] - 0s 17ms/step - loss: 0.2326 - accuracy: 1.0000\n",
            "Epoch 388/400\n",
            "3/3 [==============================] - 0s 33ms/step - loss: 0.2306 - accuracy: 1.0000\n",
            "Epoch 389/400\n",
            "3/3 [==============================] - 0s 18ms/step - loss: 0.2288 - accuracy: 1.0000\n",
            "Epoch 390/400\n",
            "3/3 [==============================] - 0s 14ms/step - loss: 0.2271 - accuracy: 1.0000\n",
            "Epoch 391/400\n",
            "3/3 [==============================] - 0s 18ms/step - loss: 0.2252 - accuracy: 1.0000\n",
            "Epoch 392/400\n",
            "3/3 [==============================] - 0s 13ms/step - loss: 0.2234 - accuracy: 1.0000\n",
            "Epoch 393/400\n",
            "3/3 [==============================] - 0s 20ms/step - loss: 0.2216 - accuracy: 1.0000\n",
            "Epoch 394/400\n",
            "3/3 [==============================] - 0s 22ms/step - loss: 0.2200 - accuracy: 1.0000\n",
            "Epoch 395/400\n",
            "3/3 [==============================] - 0s 42ms/step - loss: 0.2182 - accuracy: 1.0000\n",
            "Epoch 396/400\n",
            "3/3 [==============================] - 0s 21ms/step - loss: 0.2168 - accuracy: 1.0000\n",
            "Epoch 397/400\n",
            "3/3 [==============================] - 0s 19ms/step - loss: 0.2149 - accuracy: 1.0000\n",
            "Epoch 398/400\n",
            "3/3 [==============================] - 0s 16ms/step - loss: 0.2131 - accuracy: 1.0000\n",
            "Epoch 399/400\n",
            "3/3 [==============================] - 0s 16ms/step - loss: 0.2117 - accuracy: 1.0000\n",
            "Epoch 400/400\n",
            "3/3 [==============================] - 0s 15ms/step - loss: 0.2096 - accuracy: 1.0000\n"
          ]
        }
      ]
    },
    {
      "cell_type": "markdown",
      "source": [
        "# **Model Analysis**\n",
        "\n",
        "Setelah menjalankan model fitting. Selanjutnya adalah analisa model untuk melihat hasil akurasi dari model Neural Network tersebut."
      ],
      "metadata": {
        "id": "BfQP5TaPkGzB"
      },
      "id": "BfQP5TaPkGzB"
    },
    {
      "cell_type": "code",
      "source": [
        "# Plotting model Accuracy and Loss (Visualisasi Plot Hasil Akurasi dan Loss)\n",
        "# Plot Akurasi\n",
        "plt.figure(figsize=(14, 5))\n",
        "plt.subplot(1, 2, 1)\n",
        "plt.plot(train.history['accuracy'],label='Training Set Accuracy')\n",
        "plt.legend(loc='lower right')\n",
        "plt.title('Accuracy')\n",
        "# Plot Loss\n",
        "plt.subplot(1, 2, 2)\n",
        "plt.plot(train.history['loss'],label='Training Set Loss')\n",
        "plt.legend(loc='upper right')\n",
        "plt.title('Loss')\n",
        "plt.show()"
      ],
      "metadata": {
        "colab": {
          "base_uri": "https://localhost:8080/",
          "height": 333
        },
        "id": "FEz3P5djksfa",
        "outputId": "11db0ae9-c849-44ff-f355-25e5fa867d47"
      },
      "id": "FEz3P5djksfa",
      "execution_count": null,
      "outputs": [
        {
          "output_type": "display_data",
          "data": {
            "text/plain": [
              "<Figure size 1008x360 with 2 Axes>"
            ],
            "image/png": "[encoded data removed]"
          },
          "metadata": {
            "needs_background": "light"
          }
        }
      ]
    },
    {
      "cell_type": "markdown",
      "source": [
        "# **Testing Chatbot Dan Tambahkan Suara Pada Chatbot**\n",
        "\n",
        "Setelah mengetahui hasil dari akurasi dan loss pada model yang telah ditetapkan dengan algoritma Neural Network dan LSTM. Maka, tahapan selanjutnya adalah menguji atau testing pada chatbot yang telah dilatih sebelumnya dan melihat apakah sesuai atau tidak pada saat kita masukan teks kalimat pertanyaannya. \n",
        "\n",
        "Pada pengujian ini menggunakan metode input atau masukan sesuai dengan kalimat pertanyaan yang dimasukkan."
      ],
      "metadata": {
        "id": "WcOYpQfuln4T"
      },
      "id": "WcOYpQfuln4T"
    },
    {
      "cell_type": "code",
      "source": [
        "# Membuat Input Chat\n",
        "while True:\n",
        "  texts_p = []\n",
        "  prediction_input = input('Kamu : ')\n",
        "  \n",
        "  # Menghapus punktuasi dan konversi ke huruf kecil\n",
        "  prediction_input = [letters.lower() for letters in prediction_input if letters not in string.punctuation]\n",
        "  prediction_input = ''.join(prediction_input)\n",
        "  texts_p.append(prediction_input)\n",
        "\n",
        "  # Tokenisasi dan Padding\n",
        "  prediction_input = tokenizer.texts_to_sequences(texts_p)\n",
        "  prediction_input = np.array(prediction_input).reshape(-1)\n",
        "  prediction_input = pad_sequences([prediction_input],input_shape)\n",
        "\n",
        "  # Mendapatkan hasil keluaran pada model \n",
        "  output = model.predict(prediction_input)\n",
        "  output = output.argmax()\n",
        "\n",
        "  # Menemukan respon sesuai data tag dan memainkan voice bot\n",
        "  response_tag = le.inverse_transform([output])[0]\n",
        "  print(\"KadekBot : \", random.choice(responses[response_tag]))\n",
        "  tts = gTTS(random.choice(responses[response_tag]), lang='id')\n",
        "  tts.save('/content/KadekBot.wav')\n",
        "  time.sleep(0.08)\n",
        "  ipd.display(ipd.Audio('/content/KadekBot.wav', autoplay=True))\n",
        "  print(\"=\"*60 + \"\\n\")\n",
        "  if response_tag == \"goodbye\":\n",
        "    break"
      ],
      "metadata": {
        "id": "fao4rG4rlh1D",
        "colab": {
          "base_uri": "https://localhost:8080/",
          "height": 144
        },
        "outputId": "32c54385-ced8-4000-e30a-af32e2f07e37"
      },
      "id": "fao4rG4rlh1D",
      "execution_count": null,
      "outputs": [
        {
          "output_type": "stream",
          "name": "stdout",
          "text": [
            "Kamu : bye\n",
            "KadekBot :  See u! Senang bisa membantu\n"
          ]
        },
        {
          "output_type": "display_data",
          "data": {
            "text/plain": [
              "<IPython.lib.display.Audio object>"
            ],
            "text/html": [
              "\n",
              "                <audio  controls=\"controls\" autoplay=\"autoplay\">\n",
              "                    <source src=\"data:audio/x-wav;base64,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\" type=\"audio/x-wav\" />\n",
              "                    Your browser does not support the audio element.\n",
              "                </audio>\n",
              "              "
            ]
          },
          "metadata": {}
        },
        {
          "output_type": "stream",
          "name": "stdout",
          "text": [
            "============================================================\n",
            "\n"
          ]
        }
      ]
    },
    {
      "cell_type": "markdown",
      "source": [
        "# **Save The Model**\n",
        "\n",
        "Setelah pengujian Chatbot telah disesuaikan dengan kalimat dan jawabannya. Maka, model chatbot bisa disimpan dengan format .h5 atau .pkl (pickle) untuk penggunaan aplikasi AI Chatbot dengan website atau sistem Android. "
      ],
      "metadata": {
        "id": "PpFwQ9gWmWtk"
      },
      "id": "PpFwQ9gWmWtk"
    },
    {
      "cell_type": "code",
      "source": [
        "model.save('/content/chat_model.h5')\n",
        "\n",
        "print('Model Created Successfully!')"
      ],
      "metadata": {
        "id": "MxdDHujDmaC0",
        "colab": {
          "base_uri": "https://localhost:8080/"
        },
        "outputId": "7d783394-76c8-4f04-af43-595c506f3e21"
      },
      "id": "MxdDHujDmaC0",
      "execution_count": null,
      "outputs": [
        {
          "output_type": "stream",
          "name": "stdout",
          "text": [
            "Model Created Successfully!\n"
          ]
        }
      ]
    }
  ],
  "metadata": {
    "kernelspec": {
      "display_name": "Python 3 (ipykernel)",
      "language": "python",
      "name": "python3"
    },
    "language_info": {
      "codemirror_mode": {
        "name": "ipython",
        "version": 3
      },
      "file_extension": ".py",
      "mimetype": "text/x-python",
      "name": "python",
      "nbconvert_exporter": "python",
      "pygments_lexer": "ipython3",
      "version": "3.9.7"
    },
    "latex_envs": {
      "LaTeX_envs_menu_present": true,
      "autoclose": false,
      "autocomplete": true,
      "bibliofile": "biblio.bib",
      "cite_by": "apalike",
      "current_citInitial": 1,
      "eqLabelWithNumbers": true,
      "eqNumInitial": 1,
      "hotkeys": {
        "equation": "Ctrl-E",
        "itemize": "Ctrl-I"
      },
      "labels_anchors": false,
      "latex_user_defs": false,
      "report_style_numbering": false,
      "user_envs_cfg": false
    },
    "varInspector": {
      "cols": {
        "lenName": 16,
        "lenType": 16,
        "lenVar": 40
      },
      "kernels_config": {
        "python": {
          "delete_cmd_postfix": "",
          "delete_cmd_prefix": "del ",
          "library": "var_list.py",
          "varRefreshCmd": "print(var_dic_list())"
        },
        "r": {
          "delete_cmd_postfix": ") ",
          "delete_cmd_prefix": "rm(",
          "library": "var_list.r",
          "varRefreshCmd": "cat(var_dic_list()) "
        }
      },
      "types_to_exclude": [
        "module",
        "function",
        "builtin_function_or_method",
        "instance",
        "_Feature"
      ],
      "window_display": false
    },
    "colab": {
      "provenance": [],
      "include_colab_link": true
    },
    "gpuClass": "standard"
  },
  "nbformat": 4,
  "nbformat_minor": 5
}