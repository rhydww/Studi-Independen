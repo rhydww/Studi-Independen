{
  "nbformat": 4,
  "nbformat_minor": 0,
  "metadata": {
    "colab": {
      "provenance": [],
      "toc_visible": true,
      "include_colab_link": true
    },
    "kernelspec": {
      "name": "python3",
      "display_name": "Python 3"
    },
    "language_info": {
      "name": "python"
    }
  },
  "cells": [
    {
      "cell_type": "markdown",
      "metadata": {
        "id": "view-in-github",
        "colab_type": "text"
      },
      "source": [
        "<a href=\"https://colab.research.google.com/github/rhydww/Studi-Independen/blob/Tugas/Rahayu_Dewi_A_Latihan_RB_04_TF_IDF_%26_Cosine_Similarity.ipynb\" target=\"_parent\"><img src=\"https://colab.research.google.com/assets/colab-badge.svg\" alt=\"Open In Colab\"/></a>"
      ]
    },
    {
      "cell_type": "markdown",
      "metadata": {
        "id": "cjDtFEQ-WeIM"
      },
      "source": [
        "## LATIHAN\n",
        "\n"
      ]
    },
    {
      "cell_type": "markdown",
      "source": [
        "1.  Hitung TF_IDF pada contoh kalimat yang digunakan pada cosine similarity \n",
        "2.   Hitung cosine similarity pada kalimat berikut: \n",
        "\n",
        "*   Pengiriman dan kualitas produk sangat baik\n",
        "*  Produk tidak sesuai gambar tapi memang sesuai harga\n",
        "*   tidak sesuai ekspektasi produk berbeda dengan gambar\n",
        "\n",
        "\n",
        "\n"
      ],
      "metadata": {
        "id": "FnKlIlrJWmb3"
      }
    },
    {
      "cell_type": "code",
      "source": [
        "import nltk\n",
        "from nltk.tokenize import word_tokenize\n",
        "from gensim.models import Word2Vec\n",
        "import re"
      ],
      "metadata": {
        "id": "5mGU67xYXBES"
      },
      "execution_count": null,
      "outputs": []
    },
    {
      "cell_type": "code",
      "source": [
        "nltk.download('punkt')"
      ],
      "metadata": {
        "colab": {
          "base_uri": "https://localhost:8080/"
        },
        "id": "Jf9wthC4uVO1",
        "outputId": "6e7c42f1-9008-4bc7-fd6f-e2ce5a41cd39"
      },
      "execution_count": null,
      "outputs": [
        {
          "output_type": "stream",
          "name": "stderr",
          "text": [
            "[nltk_data] Downloading package punkt to /root/nltk_data...\n",
            "[nltk_data]   Unzipping tokenizers/punkt.zip.\n"
          ]
        },
        {
          "output_type": "execute_result",
          "data": {
            "text/plain": [
              "True"
            ]
          },
          "metadata": {},
          "execution_count": 2
        }
      ]
    },
    {
      "cell_type": "code",
      "source": [
        "komentar = [\n",
        "          \"Pengiriman dan kualitas produk sangat baik\",\n",
        "          \"Produk tidak sesuai gambar tapi memang sesuai harga\",\n",
        "          \"Tidak sesuai ekspetasi produk berbeda dengan gambar\",\n",
        "]"
      ],
      "metadata": {
        "id": "3O6DBirBuZVZ"
      },
      "execution_count": null,
      "outputs": []
    },
    {
      "cell_type": "code",
      "source": [
        "komentar = [re.sub(r'[,.]', '',k) for k in komentar]\n",
        "komentar"
      ],
      "metadata": {
        "colab": {
          "base_uri": "https://localhost:8080/"
        },
        "id": "duEL4WWRucJW",
        "outputId": "1f798ab1-678b-4a8f-c8e1-3c9337f49e29"
      },
      "execution_count": null,
      "outputs": [
        {
          "output_type": "execute_result",
          "data": {
            "text/plain": [
              "['Pengiriman dan kualitas produk sangat baik',\n",
              " 'Produk tidak sesuai gambar tapi memang sesuai harga',\n",
              " 'Tidak sesuai ekspetasi produk berbeda dengan gambar']"
            ]
          },
          "metadata": {},
          "execution_count": 4
        }
      ]
    },
    {
      "cell_type": "code",
      "source": [
        "corpus = [word_tokenize(k.lower()) for k in komentar]\n",
        "corpus"
      ],
      "metadata": {
        "colab": {
          "base_uri": "https://localhost:8080/"
        },
        "id": "EAiSHWcduebz",
        "outputId": "94b3c90c-c105-4f9a-9480-05682b1cff84"
      },
      "execution_count": null,
      "outputs": [
        {
          "output_type": "execute_result",
          "data": {
            "text/plain": [
              "[['pengiriman', 'dan', 'kualitas', 'produk', 'sangat', 'baik'],\n",
              " ['produk', 'tidak', 'sesuai', 'gambar', 'tapi', 'memang', 'sesuai', 'harga'],\n",
              " ['tidak', 'sesuai', 'ekspetasi', 'produk', 'berbeda', 'dengan', 'gambar']]"
            ]
          },
          "metadata": {},
          "execution_count": 5
        }
      ]
    },
    {
      "cell_type": "code",
      "source": [
        "model = Word2Vec(corpus, size=100, window=5, workers=2, min_count=1, iter=100)"
      ],
      "metadata": {
        "id": "y5hyoAW6ujE6"
      },
      "execution_count": null,
      "outputs": []
    },
    {
      "cell_type": "code",
      "source": [
        "model.save(\"komentar_app.w2v\")"
      ],
      "metadata": {
        "id": "YB0XybQ5um-d"
      },
      "execution_count": null,
      "outputs": []
    },
    {
      "cell_type": "code",
      "source": [
        "model = Word2Vec.load(\"komentar_app.w2v\")"
      ],
      "metadata": {
        "id": "UiMF0-8wuuwK"
      },
      "execution_count": null,
      "outputs": []
    },
    {
      "cell_type": "code",
      "source": [
        "w2v = model.wv"
      ],
      "metadata": {
        "id": "UD3QZdmguwqj"
      },
      "execution_count": null,
      "outputs": []
    },
    {
      "cell_type": "code",
      "source": [
        "w2v.index2word"
      ],
      "metadata": {
        "colab": {
          "base_uri": "https://localhost:8080/"
        },
        "id": "iyT-Dp_du04B",
        "outputId": "32e8dd57-50bb-4891-f962-e0303c3d621d"
      },
      "execution_count": null,
      "outputs": [
        {
          "output_type": "execute_result",
          "data": {
            "text/plain": [
              "['produk',\n",
              " 'sesuai',\n",
              " 'tidak',\n",
              " 'gambar',\n",
              " 'pengiriman',\n",
              " 'dan',\n",
              " 'kualitas',\n",
              " 'sangat',\n",
              " 'baik',\n",
              " 'tapi',\n",
              " 'memang',\n",
              " 'harga',\n",
              " 'ekspetasi',\n",
              " 'berbeda',\n",
              " 'dengan']"
            ]
          },
          "metadata": {},
          "execution_count": 10
        }
      ]
    },
    {
      "cell_type": "code",
      "source": [
        "w2v.vectors"
      ],
      "metadata": {
        "colab": {
          "base_uri": "https://localhost:8080/"
        },
        "id": "w1J6A2fiu4pb",
        "outputId": "7bc28d98-089f-4580-f075-3f68a8f07bce"
      },
      "execution_count": null,
      "outputs": [
        {
          "output_type": "execute_result",
          "data": {
            "text/plain": [
              "array([[-4.2980588e-03,  2.7884785e-03, -1.2726808e-03, ...,\n",
              "        -3.0956825e-03,  1.0217481e-03,  3.7349618e-04],\n",
              "       [-2.2319732e-03, -1.5409461e-03, -4.3601295e-04, ...,\n",
              "         3.5525518e-04, -2.2552696e-03,  2.2086853e-03],\n",
              "       [-1.9237135e-03,  4.4257874e-03, -4.8714536e-03, ...,\n",
              "        -7.1526250e-05,  1.3596980e-03,  6.0491404e-04],\n",
              "       ...,\n",
              "       [ 1.3192638e-03, -3.6120758e-04, -1.0926302e-03, ...,\n",
              "        -1.9021274e-03,  4.0446760e-04,  3.7679614e-03],\n",
              "       [ 1.2873140e-03, -4.4951611e-04, -3.9717229e-03, ...,\n",
              "        -5.0072437e-03,  2.8524071e-03,  5.5580412e-04],\n",
              "       [ 3.8833134e-03, -3.9356616e-03, -8.2800270e-04, ...,\n",
              "         7.8245817e-04, -4.0638790e-04,  1.4184784e-03]], dtype=float32)"
            ]
          },
          "metadata": {},
          "execution_count": 11
        }
      ]
    },
    {
      "cell_type": "code",
      "source": [
        "w2v.vector_size"
      ],
      "metadata": {
        "colab": {
          "base_uri": "https://localhost:8080/"
        },
        "id": "unJoTbcUu8NE",
        "outputId": "2c0f3cc3-1338-445f-c53c-2bc58a4e582c"
      },
      "execution_count": null,
      "outputs": [
        {
          "output_type": "execute_result",
          "data": {
            "text/plain": [
              "100"
            ]
          },
          "metadata": {},
          "execution_count": 12
        }
      ]
    },
    {
      "cell_type": "code",
      "source": [
        "w2v['berbeda']"
      ],
      "metadata": {
        "colab": {
          "base_uri": "https://localhost:8080/"
        },
        "id": "WJfbL2Lbu_VW",
        "outputId": "fe487f42-a3fd-4672-c777-141173dc935a"
      },
      "execution_count": null,
      "outputs": [
        {
          "output_type": "execute_result",
          "data": {
            "text/plain": [
              "array([ 1.2873140e-03, -4.4951611e-04, -3.9717229e-03, -3.2468373e-03,\n",
              "        4.8473617e-03, -8.1790873e-04, -2.2550910e-03,  3.5604991e-03,\n",
              "       -4.9610781e-03,  1.7757619e-03,  1.6803867e-03,  4.6783406e-03,\n",
              "        4.7927191e-03,  1.0246765e-03, -1.3045848e-03, -2.2488290e-03,\n",
              "        1.2941035e-03, -4.6401834e-03, -4.1877790e-03, -1.2262624e-03,\n",
              "        4.3034861e-03,  6.5208969e-06,  2.4643573e-03, -3.7595369e-03,\n",
              "        1.4571074e-03,  1.0923279e-03, -4.4919769e-03, -1.4910954e-03,\n",
              "       -1.3984399e-03, -1.3686144e-03,  3.6260369e-03,  2.4642840e-03,\n",
              "        3.0364762e-03, -2.7054481e-03,  2.6954350e-03, -2.5384844e-04,\n",
              "        3.4284026e-03, -1.8390964e-03,  4.1880133e-03, -3.5259747e-03,\n",
              "       -1.8621677e-03,  1.1129720e-03, -1.7115833e-03, -2.2999523e-03,\n",
              "       -4.2997007e-03,  4.4515380e-03, -2.2420932e-03,  1.0755997e-03,\n",
              "       -4.6539037e-03,  1.8687341e-03,  2.8537202e-03, -2.2578265e-03,\n",
              "       -9.0874650e-04, -9.7501680e-04,  1.5863939e-03, -2.3768195e-03,\n",
              "        3.8875490e-03,  3.4240694e-03,  4.5603621e-03,  3.1889405e-03,\n",
              "       -1.1090640e-03, -4.7500748e-03, -2.1837044e-03,  7.1913976e-04,\n",
              "        1.7785802e-03, -4.6773413e-03, -4.4245990e-03,  4.8440951e-03,\n",
              "        2.0452207e-03,  2.4527735e-03, -4.8395982e-03, -2.2719584e-04,\n",
              "       -1.2520617e-03,  3.0669887e-03, -3.8352802e-03, -1.1035963e-03,\n",
              "       -1.2784824e-03, -1.9417392e-03, -4.5684967e-03,  3.9828657e-03,\n",
              "       -3.9614039e-03,  3.8114358e-03, -4.6892003e-03, -7.4588653e-04,\n",
              "        3.6969979e-03,  4.1385922e-03, -3.2825675e-03,  3.1588005e-03,\n",
              "        3.8421252e-03,  1.6929881e-03,  4.6843826e-03, -4.5152870e-03,\n",
              "       -4.4006226e-03, -3.9446927e-03, -2.1618328e-03, -3.2615419e-03,\n",
              "       -3.9682928e-03, -5.0072437e-03,  2.8524071e-03,  5.5580412e-04],\n",
              "      dtype=float32)"
            ]
          },
          "metadata": {},
          "execution_count": 13
        }
      ]
    },
    {
      "cell_type": "code",
      "source": [
        "w2v.similar_by_word(\"produk\", topn=5)"
      ],
      "metadata": {
        "colab": {
          "base_uri": "https://localhost:8080/"
        },
        "id": "jGPs_LA4vBfR",
        "outputId": "57192209-c8d8-4ceb-a551-af0f546dca5f"
      },
      "execution_count": null,
      "outputs": [
        {
          "output_type": "execute_result",
          "data": {
            "text/plain": [
              "[('gambar', 0.10507925599813461),\n",
              " ('baik', 0.08598115295171738),\n",
              " ('harga', 0.08527448773384094),\n",
              " ('berbeda', 0.07623346894979477),\n",
              " ('ekspetasi', 0.026506740599870682)]"
            ]
          },
          "metadata": {},
          "execution_count": 14
        }
      ]
    },
    {
      "cell_type": "markdown",
      "source": [
        "#TF-IDF"
      ],
      "metadata": {
        "id": "G0ENxP8QvGcX"
      }
    },
    {
      "cell_type": "code",
      "source": [
        "komentar"
      ],
      "metadata": {
        "colab": {
          "base_uri": "https://localhost:8080/"
        },
        "id": "SPywaG67vJ2I",
        "outputId": "254305a3-f9a4-474e-d1a3-2aa4c4b27274"
      },
      "execution_count": null,
      "outputs": [
        {
          "output_type": "execute_result",
          "data": {
            "text/plain": [
              "['Pengiriman dan kualitas produk sangat baik',\n",
              " 'Produk tidak sesuai gambar tapi memang sesuai harga',\n",
              " 'Tidak sesuai ekspetasi produk berbeda dengan gambar']"
            ]
          },
          "metadata": {},
          "execution_count": 15
        }
      ]
    },
    {
      "cell_type": "code",
      "source": [
        "from sklearn.feature_extraction.text import TfidfVectorizer\n",
        "import pandas as pd\n",
        "\n",
        "vectorizer = TfidfVectorizer()\n",
        "result = vectorizer.fit_transform(komentar)"
      ],
      "metadata": {
        "id": "k6_akkm7vNP6"
      },
      "execution_count": null,
      "outputs": []
    },
    {
      "cell_type": "code",
      "source": [
        "print(vectorizer.get_feature_names())"
      ],
      "metadata": {
        "colab": {
          "base_uri": "https://localhost:8080/"
        },
        "id": "jMI6CmrpvTAi",
        "outputId": "9c79ca53-50ca-41fc-da65-e46c4979e7e0"
      },
      "execution_count": null,
      "outputs": [
        {
          "output_type": "stream",
          "name": "stdout",
          "text": [
            "['baik', 'berbeda', 'dan', 'dengan', 'ekspetasi', 'gambar', 'harga', 'kualitas', 'memang', 'pengiriman', 'produk', 'sangat', 'sesuai', 'tapi', 'tidak']\n"
          ]
        },
        {
          "output_type": "stream",
          "name": "stderr",
          "text": [
            "/usr/local/lib/python3.7/dist-packages/sklearn/utils/deprecation.py:87: FutureWarning: Function get_feature_names is deprecated; get_feature_names is deprecated in 1.0 and will be removed in 1.2. Please use get_feature_names_out instead.\n",
            "  warnings.warn(msg, category=FutureWarning)\n"
          ]
        }
      ]
    },
    {
      "cell_type": "code",
      "source": [
        "print(result)"
      ],
      "metadata": {
        "colab": {
          "base_uri": "https://localhost:8080/"
        },
        "id": "z59GEfcUvWuf",
        "outputId": "0a2681ed-0bb2-412c-8e1c-07ceb807b82c"
      },
      "execution_count": null,
      "outputs": [
        {
          "output_type": "stream",
          "name": "stdout",
          "text": [
            "  (0, 0)\t0.4323850887896905\n",
            "  (0, 11)\t0.4323850887896905\n",
            "  (0, 10)\t0.25537359879528915\n",
            "  (0, 7)\t0.4323850887896905\n",
            "  (0, 2)\t0.4323850887896905\n",
            "  (0, 9)\t0.4323850887896905\n",
            "  (1, 6)\t0.382941573926791\n",
            "  (1, 8)\t0.382941573926791\n",
            "  (1, 13)\t0.382941573926791\n",
            "  (1, 5)\t0.2912369374639482\n",
            "  (1, 12)\t0.5824738749278964\n",
            "  (1, 14)\t0.2912369374639482\n",
            "  (1, 10)\t0.226171462424281\n",
            "  (2, 3)\t0.4435025580042657\n",
            "  (2, 1)\t0.4435025580042657\n",
            "  (2, 4)\t0.4435025580042657\n",
            "  (2, 5)\t0.33729512684167956\n",
            "  (2, 12)\t0.33729512684167956\n",
            "  (2, 14)\t0.33729512684167956\n",
            "  (2, 10)\t0.26193975520639246\n"
          ]
        }
      ]
    },
    {
      "cell_type": "code",
      "source": [
        "print(f\"Teks dokumen ke-{2+1}:\\n{komentar[2]}\")\n",
        "print(f\"Fitur Name ke-10: {vectorizer.get_feature_names()[10]}\")"
      ],
      "metadata": {
        "colab": {
          "base_uri": "https://localhost:8080/"
        },
        "id": "jtOrKz63vaSc",
        "outputId": "f74f9d55-b379-4571-e654-2db8e9a9e739"
      },
      "execution_count": null,
      "outputs": [
        {
          "output_type": "stream",
          "name": "stdout",
          "text": [
            "Teks dokumen ke-3:\n",
            "Tidak sesuai ekspetasi produk berbeda dengan gambar\n",
            "Fitur Name ke-10: produk\n"
          ]
        }
      ]
    },
    {
      "cell_type": "code",
      "source": [
        "result.todense()"
      ],
      "metadata": {
        "colab": {
          "base_uri": "https://localhost:8080/"
        },
        "id": "tG935Qo2vfTf",
        "outputId": "8850b076-f84c-4e84-f3c9-2707566e4d29"
      },
      "execution_count": null,
      "outputs": [
        {
          "output_type": "execute_result",
          "data": {
            "text/plain": [
              "matrix([[0.43238509, 0.        , 0.43238509, 0.        , 0.        ,\n",
              "         0.        , 0.        , 0.43238509, 0.        , 0.43238509,\n",
              "         0.2553736 , 0.43238509, 0.        , 0.        , 0.        ],\n",
              "        [0.        , 0.        , 0.        , 0.        , 0.        ,\n",
              "         0.29123694, 0.38294157, 0.        , 0.38294157, 0.        ,\n",
              "         0.22617146, 0.        , 0.58247387, 0.38294157, 0.29123694],\n",
              "        [0.        , 0.44350256, 0.        , 0.44350256, 0.44350256,\n",
              "         0.33729513, 0.        , 0.        , 0.        , 0.        ,\n",
              "         0.26193976, 0.        , 0.33729513, 0.        , 0.33729513]])"
            ]
          },
          "metadata": {},
          "execution_count": 21
        }
      ]
    },
    {
      "cell_type": "code",
      "source": [
        "df = pd.DataFrame(result.todense().T,\n",
        "                  index=vectorizer.get_feature_names(),\n",
        "                  columns=[f\"D{i+1}\" for i in range(len(komentar))])\n",
        "df"
      ],
      "metadata": {
        "colab": {
          "base_uri": "https://localhost:8080/",
          "height": 520
        },
        "id": "v0RsOJZEvjNK",
        "outputId": "42e18434-f4df-4246-b340-fc8e12607ede"
      },
      "execution_count": null,
      "outputs": [
        {
          "output_type": "execute_result",
          "data": {
            "text/plain": [
              "                  D1        D2        D3\n",
              "baik        0.432385  0.000000  0.000000\n",
              "berbeda     0.000000  0.000000  0.443503\n",
              "dan         0.432385  0.000000  0.000000\n",
              "dengan      0.000000  0.000000  0.443503\n",
              "ekspetasi   0.000000  0.000000  0.443503\n",
              "gambar      0.000000  0.291237  0.337295\n",
              "harga       0.000000  0.382942  0.000000\n",
              "kualitas    0.432385  0.000000  0.000000\n",
              "memang      0.000000  0.382942  0.000000\n",
              "pengiriman  0.432385  0.000000  0.000000\n",
              "produk      0.255374  0.226171  0.261940\n",
              "sangat      0.432385  0.000000  0.000000\n",
              "sesuai      0.000000  0.582474  0.337295\n",
              "tapi        0.000000  0.382942  0.000000\n",
              "tidak       0.000000  0.291237  0.337295"
            ],
            "text/html": [
              "\n",
              "  <div id=\"df-afa6c8c8-58f6-4102-add1-844ccad7a152\">\n",
              "    <div class=\"colab-df-container\">\n",
              "      <div>\n",
              "<style scoped>\n",
              "    .dataframe tbody tr th:only-of-type {\n",
              "        vertical-align: middle;\n",
              "    }\n",
              "\n",
              "    .dataframe tbody tr th {\n",
              "        vertical-align: top;\n",
              "    }\n",
              "\n",
              "    .dataframe thead th {\n",
              "        text-align: right;\n",
              "    }\n",
              "</style>\n",
              "<table border=\"1\" class=\"dataframe\">\n",
              "  <thead>\n",
              "    <tr style=\"text-align: right;\">\n",
              "      <th></th>\n",
              "      <th>D1</th>\n",
              "      <th>D2</th>\n",
              "      <th>D3</th>\n",
              "    </tr>\n",
              "  </thead>\n",
              "  <tbody>\n",
              "    <tr>\n",
              "      <th>baik</th>\n",
              "      <td>0.432385</td>\n",
              "      <td>0.000000</td>\n",
              "      <td>0.000000</td>\n",
              "    </tr>\n",
              "    <tr>\n",
              "      <th>berbeda</th>\n",
              "      <td>0.000000</td>\n",
              "      <td>0.000000</td>\n",
              "      <td>0.443503</td>\n",
              "    </tr>\n",
              "    <tr>\n",
              "      <th>dan</th>\n",
              "      <td>0.432385</td>\n",
              "      <td>0.000000</td>\n",
              "      <td>0.000000</td>\n",
              "    </tr>\n",
              "    <tr>\n",
              "      <th>dengan</th>\n",
              "      <td>0.000000</td>\n",
              "      <td>0.000000</td>\n",
              "      <td>0.443503</td>\n",
              "    </tr>\n",
              "    <tr>\n",
              "      <th>ekspetasi</th>\n",
              "      <td>0.000000</td>\n",
              "      <td>0.000000</td>\n",
              "      <td>0.443503</td>\n",
              "    </tr>\n",
              "    <tr>\n",
              "      <th>gambar</th>\n",
              "      <td>0.000000</td>\n",
              "      <td>0.291237</td>\n",
              "      <td>0.337295</td>\n",
              "    </tr>\n",
              "    <tr>\n",
              "      <th>harga</th>\n",
              "      <td>0.000000</td>\n",
              "      <td>0.382942</td>\n",
              "      <td>0.000000</td>\n",
              "    </tr>\n",
              "    <tr>\n",
              "      <th>kualitas</th>\n",
              "      <td>0.432385</td>\n",
              "      <td>0.000000</td>\n",
              "      <td>0.000000</td>\n",
              "    </tr>\n",
              "    <tr>\n",
              "      <th>memang</th>\n",
              "      <td>0.000000</td>\n",
              "      <td>0.382942</td>\n",
              "      <td>0.000000</td>\n",
              "    </tr>\n",
              "    <tr>\n",
              "      <th>pengiriman</th>\n",
              "      <td>0.432385</td>\n",
              "      <td>0.000000</td>\n",
              "      <td>0.000000</td>\n",
              "    </tr>\n",
              "    <tr>\n",
              "      <th>produk</th>\n",
              "      <td>0.255374</td>\n",
              "      <td>0.226171</td>\n",
              "      <td>0.261940</td>\n",
              "    </tr>\n",
              "    <tr>\n",
              "      <th>sangat</th>\n",
              "      <td>0.432385</td>\n",
              "      <td>0.000000</td>\n",
              "      <td>0.000000</td>\n",
              "    </tr>\n",
              "    <tr>\n",
              "      <th>sesuai</th>\n",
              "      <td>0.000000</td>\n",
              "      <td>0.582474</td>\n",
              "      <td>0.337295</td>\n",
              "    </tr>\n",
              "    <tr>\n",
              "      <th>tapi</th>\n",
              "      <td>0.000000</td>\n",
              "      <td>0.382942</td>\n",
              "      <td>0.000000</td>\n",
              "    </tr>\n",
              "    <tr>\n",
              "      <th>tidak</th>\n",
              "      <td>0.000000</td>\n",
              "      <td>0.291237</td>\n",
              "      <td>0.337295</td>\n",
              "    </tr>\n",
              "  </tbody>\n",
              "</table>\n",
              "</div>\n",
              "      <button class=\"colab-df-convert\" onclick=\"convertToInteractive('df-afa6c8c8-58f6-4102-add1-844ccad7a152')\"\n",
              "              title=\"Convert this dataframe to an interactive table.\"\n",
              "              style=\"display:none;\">\n",
              "        \n",
              "  <svg xmlns=\"http://www.w3.org/2000/svg\" height=\"24px\"viewBox=\"0 0 24 24\"\n",
              "       width=\"24px\">\n",
              "    <path d=\"M0 0h24v24H0V0z\" fill=\"none\"/>\n",
              "    <path d=\"M18.56 5.44l.94 2.06.94-2.06 2.06-.94-2.06-.94-.94-2.06-.94 2.06-2.06.94zm-11 1L8.5 8.5l.94-2.06 2.06-.94-2.06-.94L8.5 2.5l-.94 2.06-2.06.94zm10 10l.94 2.06.94-2.06 2.06-.94-2.06-.94-.94-2.06-.94 2.06-2.06.94z\"/><path d=\"M17.41 7.96l-1.37-1.37c-.4-.4-.92-.59-1.43-.59-.52 0-1.04.2-1.43.59L10.3 9.45l-7.72 7.72c-.78.78-.78 2.05 0 2.83L4 21.41c.39.39.9.59 1.41.59.51 0 1.02-.2 1.41-.59l7.78-7.78 2.81-2.81c.8-.78.8-2.07 0-2.86zM5.41 20L4 18.59l7.72-7.72 1.47 1.35L5.41 20z\"/>\n",
              "  </svg>\n",
              "      </button>\n",
              "      \n",
              "  <style>\n",
              "    .colab-df-container {\n",
              "      display:flex;\n",
              "      flex-wrap:wrap;\n",
              "      gap: 12px;\n",
              "    }\n",
              "\n",
              "    .colab-df-convert {\n",
              "      background-color: #E8F0FE;\n",
              "      border: none;\n",
              "      border-radius: 50%;\n",
              "      cursor: pointer;\n",
              "      display: none;\n",
              "      fill: #1967D2;\n",
              "      height: 32px;\n",
              "      padding: 0 0 0 0;\n",
              "      width: 32px;\n",
              "    }\n",
              "\n",
              "    .colab-df-convert:hover {\n",
              "      background-color: #E2EBFA;\n",
              "      box-shadow: 0px 1px 2px rgba(60, 64, 67, 0.3), 0px 1px 3px 1px rgba(60, 64, 67, 0.15);\n",
              "      fill: #174EA6;\n",
              "    }\n",
              "\n",
              "    [theme=dark] .colab-df-convert {\n",
              "      background-color: #3B4455;\n",
              "      fill: #D2E3FC;\n",
              "    }\n",
              "\n",
              "    [theme=dark] .colab-df-convert:hover {\n",
              "      background-color: #434B5C;\n",
              "      box-shadow: 0px 1px 3px 1px rgba(0, 0, 0, 0.15);\n",
              "      filter: drop-shadow(0px 1px 2px rgba(0, 0, 0, 0.3));\n",
              "      fill: #FFFFFF;\n",
              "    }\n",
              "  </style>\n",
              "\n",
              "      <script>\n",
              "        const buttonEl =\n",
              "          document.querySelector('#df-afa6c8c8-58f6-4102-add1-844ccad7a152 button.colab-df-convert');\n",
              "        buttonEl.style.display =\n",
              "          google.colab.kernel.accessAllowed ? 'block' : 'none';\n",
              "\n",
              "        async function convertToInteractive(key) {\n",
              "          const element = document.querySelector('#df-afa6c8c8-58f6-4102-add1-844ccad7a152');\n",
              "          const dataTable =\n",
              "            await google.colab.kernel.invokeFunction('convertToInteractive',\n",
              "                                                     [key], {});\n",
              "          if (!dataTable) return;\n",
              "\n",
              "          const docLinkHtml = 'Like what you see? Visit the ' +\n",
              "            '<a target=\"_blank\" href=https://colab.research.google.com/notebooks/data_table.ipynb>data table notebook</a>'\n",
              "            + ' to learn more about interactive tables.';\n",
              "          element.innerHTML = '';\n",
              "          dataTable['output_type'] = 'display_data';\n",
              "          await google.colab.output.renderOutput(dataTable, element);\n",
              "          const docLink = document.createElement('div');\n",
              "          docLink.innerHTML = docLinkHtml;\n",
              "          element.appendChild(docLink);\n",
              "        }\n",
              "      </script>\n",
              "    </div>\n",
              "  </div>\n",
              "  "
            ]
          },
          "metadata": {},
          "execution_count": 22
        }
      ]
    },
    {
      "cell_type": "code",
      "source": [
        "from sklearn.metrics.pairwise import cosine_similarity, cosine_distances"
      ],
      "metadata": {
        "id": "OgNzkZf2vnXq"
      },
      "execution_count": null,
      "outputs": []
    },
    {
      "cell_type": "code",
      "source": [
        "doc1 = 'Pengiriman dan kualitas produk sangat baik'\n",
        "doc2 = 'Produk tidak sesuai gambar tapi memang sesuai harga'\n",
        "doc3 = 'Tidak sesuai ekspetasi produk berbeda dengan gambar'"
      ],
      "metadata": {
        "id": "fF5cW6eRvq3l"
      },
      "execution_count": null,
      "outputs": []
    },
    {
      "cell_type": "code",
      "source": [
        "import pandas as pd\n",
        "\n",
        "df = pd.DataFrame([\n",
        "        {'pengiriman':1, 'dan':1, 'kualitas':1, 'produk':1, 'sangat':1, 'baik':1, 'tidak':0, 'sesuai':0, 'gambar':0, 'tapi':0, 'memang':0, 'harga':0, 'ekspetasi':0, 'berbeda':0, 'dengan':0},\n",
        "        {'produk':1, 'tidak':1, 'sesuai':2, 'gambar':1, 'tapi':1, 'memang':1, 'harga':1, 'pengiriman':0, 'dan':0, 'kualitas':0, 'sangat':0, 'baik':0, 'ekspetasi':0, 'berbeda':0, 'dengan':0},\n",
        "        {'tidak':1, 'sesuai':1, 'ekspetasi':1, 'produk':1, 'berbeda':1, 'dengan':1, 'gambar':1, 'pengiriman':0, 'dan':0, 'kualitas':0, 'sangat':0, 'baik':0, 'tapi':0, 'memang':0, 'harga':0},\n",
        "\n",
        "  ],\n",
        "  index=[\n",
        "      \"doc1\",\n",
        "      \"doc2\",\n",
        "      \"doc3\"\n",
        "  ])\n",
        "\n",
        "df"
      ],
      "metadata": {
        "colab": {
          "base_uri": "https://localhost:8080/",
          "height": 144
        },
        "id": "feb58LzuvtqZ",
        "outputId": "f4468768-6ddd-44b2-d6a7-00e00ffa6801"
      },
      "execution_count": null,
      "outputs": [
        {
          "output_type": "execute_result",
          "data": {
            "text/plain": [
              "      pengiriman  dan  kualitas  produk  sangat  baik  tidak  sesuai  gambar  \\\n",
              "doc1           1    1         1       1       1     1      0       0       0   \n",
              "doc2           0    0         0       1       0     0      1       2       1   \n",
              "doc3           0    0         0       1       0     0      1       1       1   \n",
              "\n",
              "      tapi  memang  harga  ekspetasi  berbeda  dengan  \n",
              "doc1     0       0      0          0        0       0  \n",
              "doc2     1       1      1          0        0       0  \n",
              "doc3     0       0      0          1        1       1  "
            ],
            "text/html": [
              "\n",
              "  <div id=\"df-5a23c6d7-7285-45e5-adea-37020333fd5d\">\n",
              "    <div class=\"colab-df-container\">\n",
              "      <div>\n",
              "<style scoped>\n",
              "    .dataframe tbody tr th:only-of-type {\n",
              "        vertical-align: middle;\n",
              "    }\n",
              "\n",
              "    .dataframe tbody tr th {\n",
              "        vertical-align: top;\n",
              "    }\n",
              "\n",
              "    .dataframe thead th {\n",
              "        text-align: right;\n",
              "    }\n",
              "</style>\n",
              "<table border=\"1\" class=\"dataframe\">\n",
              "  <thead>\n",
              "    <tr style=\"text-align: right;\">\n",
              "      <th></th>\n",
              "      <th>pengiriman</th>\n",
              "      <th>dan</th>\n",
              "      <th>kualitas</th>\n",
              "      <th>produk</th>\n",
              "      <th>sangat</th>\n",
              "      <th>baik</th>\n",
              "      <th>tidak</th>\n",
              "      <th>sesuai</th>\n",
              "      <th>gambar</th>\n",
              "      <th>tapi</th>\n",
              "      <th>memang</th>\n",
              "      <th>harga</th>\n",
              "      <th>ekspetasi</th>\n",
              "      <th>berbeda</th>\n",
              "      <th>dengan</th>\n",
              "    </tr>\n",
              "  </thead>\n",
              "  <tbody>\n",
              "    <tr>\n",
              "      <th>doc1</th>\n",
              "      <td>1</td>\n",
              "      <td>1</td>\n",
              "      <td>1</td>\n",
              "      <td>1</td>\n",
              "      <td>1</td>\n",
              "      <td>1</td>\n",
              "      <td>0</td>\n",
              "      <td>0</td>\n",
              "      <td>0</td>\n",
              "      <td>0</td>\n",
              "      <td>0</td>\n",
              "      <td>0</td>\n",
              "      <td>0</td>\n",
              "      <td>0</td>\n",
              "      <td>0</td>\n",
              "    </tr>\n",
              "    <tr>\n",
              "      <th>doc2</th>\n",
              "      <td>0</td>\n",
              "      <td>0</td>\n",
              "      <td>0</td>\n",
              "      <td>1</td>\n",
              "      <td>0</td>\n",
              "      <td>0</td>\n",
              "      <td>1</td>\n",
              "      <td>2</td>\n",
              "      <td>1</td>\n",
              "      <td>1</td>\n",
              "      <td>1</td>\n",
              "      <td>1</td>\n",
              "      <td>0</td>\n",
              "      <td>0</td>\n",
              "      <td>0</td>\n",
              "    </tr>\n",
              "    <tr>\n",
              "      <th>doc3</th>\n",
              "      <td>0</td>\n",
              "      <td>0</td>\n",
              "      <td>0</td>\n",
              "      <td>1</td>\n",
              "      <td>0</td>\n",
              "      <td>0</td>\n",
              "      <td>1</td>\n",
              "      <td>1</td>\n",
              "      <td>1</td>\n",
              "      <td>0</td>\n",
              "      <td>0</td>\n",
              "      <td>0</td>\n",
              "      <td>1</td>\n",
              "      <td>1</td>\n",
              "      <td>1</td>\n",
              "    </tr>\n",
              "  </tbody>\n",
              "</table>\n",
              "</div>\n",
              "      <button class=\"colab-df-convert\" onclick=\"convertToInteractive('df-5a23c6d7-7285-45e5-adea-37020333fd5d')\"\n",
              "              title=\"Convert this dataframe to an interactive table.\"\n",
              "              style=\"display:none;\">\n",
              "        \n",
              "  <svg xmlns=\"http://www.w3.org/2000/svg\" height=\"24px\"viewBox=\"0 0 24 24\"\n",
              "       width=\"24px\">\n",
              "    <path d=\"M0 0h24v24H0V0z\" fill=\"none\"/>\n",
              "    <path d=\"M18.56 5.44l.94 2.06.94-2.06 2.06-.94-2.06-.94-.94-2.06-.94 2.06-2.06.94zm-11 1L8.5 8.5l.94-2.06 2.06-.94-2.06-.94L8.5 2.5l-.94 2.06-2.06.94zm10 10l.94 2.06.94-2.06 2.06-.94-2.06-.94-.94-2.06-.94 2.06-2.06.94z\"/><path d=\"M17.41 7.96l-1.37-1.37c-.4-.4-.92-.59-1.43-.59-.52 0-1.04.2-1.43.59L10.3 9.45l-7.72 7.72c-.78.78-.78 2.05 0 2.83L4 21.41c.39.39.9.59 1.41.59.51 0 1.02-.2 1.41-.59l7.78-7.78 2.81-2.81c.8-.78.8-2.07 0-2.86zM5.41 20L4 18.59l7.72-7.72 1.47 1.35L5.41 20z\"/>\n",
              "  </svg>\n",
              "      </button>\n",
              "      \n",
              "  <style>\n",
              "    .colab-df-container {\n",
              "      display:flex;\n",
              "      flex-wrap:wrap;\n",
              "      gap: 12px;\n",
              "    }\n",
              "\n",
              "    .colab-df-convert {\n",
              "      background-color: #E8F0FE;\n",
              "      border: none;\n",
              "      border-radius: 50%;\n",
              "      cursor: pointer;\n",
              "      display: none;\n",
              "      fill: #1967D2;\n",
              "      height: 32px;\n",
              "      padding: 0 0 0 0;\n",
              "      width: 32px;\n",
              "    }\n",
              "\n",
              "    .colab-df-convert:hover {\n",
              "      background-color: #E2EBFA;\n",
              "      box-shadow: 0px 1px 2px rgba(60, 64, 67, 0.3), 0px 1px 3px 1px rgba(60, 64, 67, 0.15);\n",
              "      fill: #174EA6;\n",
              "    }\n",
              "\n",
              "    [theme=dark] .colab-df-convert {\n",
              "      background-color: #3B4455;\n",
              "      fill: #D2E3FC;\n",
              "    }\n",
              "\n",
              "    [theme=dark] .colab-df-convert:hover {\n",
              "      background-color: #434B5C;\n",
              "      box-shadow: 0px 1px 3px 1px rgba(0, 0, 0, 0.15);\n",
              "      filter: drop-shadow(0px 1px 2px rgba(0, 0, 0, 0.3));\n",
              "      fill: #FFFFFF;\n",
              "    }\n",
              "  </style>\n",
              "\n",
              "      <script>\n",
              "        const buttonEl =\n",
              "          document.querySelector('#df-5a23c6d7-7285-45e5-adea-37020333fd5d button.colab-df-convert');\n",
              "        buttonEl.style.display =\n",
              "          google.colab.kernel.accessAllowed ? 'block' : 'none';\n",
              "\n",
              "        async function convertToInteractive(key) {\n",
              "          const element = document.querySelector('#df-5a23c6d7-7285-45e5-adea-37020333fd5d');\n",
              "          const dataTable =\n",
              "            await google.colab.kernel.invokeFunction('convertToInteractive',\n",
              "                                                     [key], {});\n",
              "          if (!dataTable) return;\n",
              "\n",
              "          const docLinkHtml = 'Like what you see? Visit the ' +\n",
              "            '<a target=\"_blank\" href=https://colab.research.google.com/notebooks/data_table.ipynb>data table notebook</a>'\n",
              "            + ' to learn more about interactive tables.';\n",
              "          element.innerHTML = '';\n",
              "          dataTable['output_type'] = 'display_data';\n",
              "          await google.colab.output.renderOutput(dataTable, element);\n",
              "          const docLink = document.createElement('div');\n",
              "          docLink.innerHTML = docLinkHtml;\n",
              "          element.appendChild(docLink);\n",
              "        }\n",
              "      </script>\n",
              "    </div>\n",
              "  </div>\n",
              "  "
            ]
          },
          "metadata": {},
          "execution_count": 25
        }
      ]
    },
    {
      "cell_type": "code",
      "source": [
        "df.loc[\"doc1\":\"doc1\"]"
      ],
      "metadata": {
        "colab": {
          "base_uri": "https://localhost:8080/",
          "height": 81
        },
        "id": "AVUBYZ6svxLh",
        "outputId": "7b545383-8963-4a27-b833-d6f335d3b82b"
      },
      "execution_count": null,
      "outputs": [
        {
          "output_type": "execute_result",
          "data": {
            "text/plain": [
              "      pengiriman  dan  kualitas  produk  sangat  baik  tidak  sesuai  gambar  \\\n",
              "doc1           1    1         1       1       1     1      0       0       0   \n",
              "\n",
              "      tapi  memang  harga  ekspetasi  berbeda  dengan  \n",
              "doc1     0       0      0          0        0       0  "
            ],
            "text/html": [
              "\n",
              "  <div id=\"df-81398287-9190-4c78-8481-de61d763653c\">\n",
              "    <div class=\"colab-df-container\">\n",
              "      <div>\n",
              "<style scoped>\n",
              "    .dataframe tbody tr th:only-of-type {\n",
              "        vertical-align: middle;\n",
              "    }\n",
              "\n",
              "    .dataframe tbody tr th {\n",
              "        vertical-align: top;\n",
              "    }\n",
              "\n",
              "    .dataframe thead th {\n",
              "        text-align: right;\n",
              "    }\n",
              "</style>\n",
              "<table border=\"1\" class=\"dataframe\">\n",
              "  <thead>\n",
              "    <tr style=\"text-align: right;\">\n",
              "      <th></th>\n",
              "      <th>pengiriman</th>\n",
              "      <th>dan</th>\n",
              "      <th>kualitas</th>\n",
              "      <th>produk</th>\n",
              "      <th>sangat</th>\n",
              "      <th>baik</th>\n",
              "      <th>tidak</th>\n",
              "      <th>sesuai</th>\n",
              "      <th>gambar</th>\n",
              "      <th>tapi</th>\n",
              "      <th>memang</th>\n",
              "      <th>harga</th>\n",
              "      <th>ekspetasi</th>\n",
              "      <th>berbeda</th>\n",
              "      <th>dengan</th>\n",
              "    </tr>\n",
              "  </thead>\n",
              "  <tbody>\n",
              "    <tr>\n",
              "      <th>doc1</th>\n",
              "      <td>1</td>\n",
              "      <td>1</td>\n",
              "      <td>1</td>\n",
              "      <td>1</td>\n",
              "      <td>1</td>\n",
              "      <td>1</td>\n",
              "      <td>0</td>\n",
              "      <td>0</td>\n",
              "      <td>0</td>\n",
              "      <td>0</td>\n",
              "      <td>0</td>\n",
              "      <td>0</td>\n",
              "      <td>0</td>\n",
              "      <td>0</td>\n",
              "      <td>0</td>\n",
              "    </tr>\n",
              "  </tbody>\n",
              "</table>\n",
              "</div>\n",
              "      <button class=\"colab-df-convert\" onclick=\"convertToInteractive('df-81398287-9190-4c78-8481-de61d763653c')\"\n",
              "              title=\"Convert this dataframe to an interactive table.\"\n",
              "              style=\"display:none;\">\n",
              "        \n",
              "  <svg xmlns=\"http://www.w3.org/2000/svg\" height=\"24px\"viewBox=\"0 0 24 24\"\n",
              "       width=\"24px\">\n",
              "    <path d=\"M0 0h24v24H0V0z\" fill=\"none\"/>\n",
              "    <path d=\"M18.56 5.44l.94 2.06.94-2.06 2.06-.94-2.06-.94-.94-2.06-.94 2.06-2.06.94zm-11 1L8.5 8.5l.94-2.06 2.06-.94-2.06-.94L8.5 2.5l-.94 2.06-2.06.94zm10 10l.94 2.06.94-2.06 2.06-.94-2.06-.94-.94-2.06-.94 2.06-2.06.94z\"/><path d=\"M17.41 7.96l-1.37-1.37c-.4-.4-.92-.59-1.43-.59-.52 0-1.04.2-1.43.59L10.3 9.45l-7.72 7.72c-.78.78-.78 2.05 0 2.83L4 21.41c.39.39.9.59 1.41.59.51 0 1.02-.2 1.41-.59l7.78-7.78 2.81-2.81c.8-.78.8-2.07 0-2.86zM5.41 20L4 18.59l7.72-7.72 1.47 1.35L5.41 20z\"/>\n",
              "  </svg>\n",
              "      </button>\n",
              "      \n",
              "  <style>\n",
              "    .colab-df-container {\n",
              "      display:flex;\n",
              "      flex-wrap:wrap;\n",
              "      gap: 12px;\n",
              "    }\n",
              "\n",
              "    .colab-df-convert {\n",
              "      background-color: #E8F0FE;\n",
              "      border: none;\n",
              "      border-radius: 50%;\n",
              "      cursor: pointer;\n",
              "      display: none;\n",
              "      fill: #1967D2;\n",
              "      height: 32px;\n",
              "      padding: 0 0 0 0;\n",
              "      width: 32px;\n",
              "    }\n",
              "\n",
              "    .colab-df-convert:hover {\n",
              "      background-color: #E2EBFA;\n",
              "      box-shadow: 0px 1px 2px rgba(60, 64, 67, 0.3), 0px 1px 3px 1px rgba(60, 64, 67, 0.15);\n",
              "      fill: #174EA6;\n",
              "    }\n",
              "\n",
              "    [theme=dark] .colab-df-convert {\n",
              "      background-color: #3B4455;\n",
              "      fill: #D2E3FC;\n",
              "    }\n",
              "\n",
              "    [theme=dark] .colab-df-convert:hover {\n",
              "      background-color: #434B5C;\n",
              "      box-shadow: 0px 1px 3px 1px rgba(0, 0, 0, 0.15);\n",
              "      filter: drop-shadow(0px 1px 2px rgba(0, 0, 0, 0.3));\n",
              "      fill: #FFFFFF;\n",
              "    }\n",
              "  </style>\n",
              "\n",
              "      <script>\n",
              "        const buttonEl =\n",
              "          document.querySelector('#df-81398287-9190-4c78-8481-de61d763653c button.colab-df-convert');\n",
              "        buttonEl.style.display =\n",
              "          google.colab.kernel.accessAllowed ? 'block' : 'none';\n",
              "\n",
              "        async function convertToInteractive(key) {\n",
              "          const element = document.querySelector('#df-81398287-9190-4c78-8481-de61d763653c');\n",
              "          const dataTable =\n",
              "            await google.colab.kernel.invokeFunction('convertToInteractive',\n",
              "                                                     [key], {});\n",
              "          if (!dataTable) return;\n",
              "\n",
              "          const docLinkHtml = 'Like what you see? Visit the ' +\n",
              "            '<a target=\"_blank\" href=https://colab.research.google.com/notebooks/data_table.ipynb>data table notebook</a>'\n",
              "            + ' to learn more about interactive tables.';\n",
              "          element.innerHTML = '';\n",
              "          dataTable['output_type'] = 'display_data';\n",
              "          await google.colab.output.renderOutput(dataTable, element);\n",
              "          const docLink = document.createElement('div');\n",
              "          docLink.innerHTML = docLinkHtml;\n",
              "          element.appendChild(docLink);\n",
              "        }\n",
              "      </script>\n",
              "    </div>\n",
              "  </div>\n",
              "  "
            ]
          },
          "metadata": {},
          "execution_count": 26
        }
      ]
    },
    {
      "cell_type": "code",
      "source": [
        "cosine_similarity(df.loc[\"doc1\":\"doc1\"],df.loc[\"doc2\":\"doc2\"],df.loc[\"doc3\":\"doc3\"])"
      ],
      "metadata": {
        "colab": {
          "base_uri": "https://localhost:8080/"
        },
        "id": "cARtRvvPv0Y_",
        "outputId": "5b71a470-0183-43a9-8804-ab3e370571b3"
      },
      "execution_count": null,
      "outputs": [
        {
          "output_type": "execute_result",
          "data": {
            "text/plain": [
              "array([[0.12909944]])"
            ]
          },
          "metadata": {},
          "execution_count": 27
        }
      ]
    }
  ]
}