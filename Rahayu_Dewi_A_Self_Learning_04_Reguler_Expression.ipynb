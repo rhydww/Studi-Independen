{
  "cells": [
    {
      "cell_type": "markdown",
      "metadata": {
        "id": "view-in-github",
        "colab_type": "text"
      },
      "source": [
        "<a href=\"https://colab.research.google.com/github/rhydww/Studi-Independen/blob/Tugas/Rahayu_Dewi_A_Self_Learning_04_Reguler_Expression.ipynb\" target=\"_parent\"><img src=\"https://colab.research.google.com/assets/colab-badge.svg\" alt=\"Open In Colab\"/></a>"
      ]
    },
    {
      "cell_type": "markdown",
      "metadata": {
        "id": "5Y4ecCXbX8n3"
      },
      "source": [
        "# Self-Activity"
      ]
    },
    {
      "cell_type": "markdown",
      "metadata": {
        "id": "fP4k3YCFYAu9"
      },
      "source": [
        "**TEXT:**\n",
        "\n",
        "Halo semua, namaku Andy Joe. Kemarin smartphoneku mendapat SMS tagihan Pinjaman Online dari nomor 08004398499. Selain itu emailku juga mendapatkan pesan serupa dari debtcollector@pinjolninuninu.com. Ternyata salah satu temanku menjadikan nomor telepon dan emailku sebagai penanggungjawab pinjaman onlinenya :(. Tak lama sosok pria berbadan bongsor datang ke rumahku dengan menggunakan mogenya. Ia menanyakan keberadaan temanku yang meminjam uang di perusahaan Pinjol tersebut. Aku yang tak tahu keberadaannya pun menjawab apa adanya. Tak lama kemudian pria tersebut pergi dan segera kuambil gambar mogenya dengan plat PO 3030 AY. Setelah itu aku menghubungi temanku dan meminta penjelasan kepadanya.\n"
      ]
    },
    {
      "cell_type": "markdown",
      "metadata": {
        "id": "-m8PBRuuYOW6"
      },
      "source": [
        "Buatlah format pesan kepada teman Andy Joe untuk meminta penjelasan terkait dengan situasi yang sedang terjadi. (ganti teks yang cetak miring dan tebal menjadi nomor debtcollector, email debtcollector dan plat nomor)"
      ]
    },
    {
      "cell_type": "markdown",
      "metadata": {
        "id": "TPSQi2vbYSSM"
      },
      "source": [
        "**Format Pesan:**"
      ]
    },
    {
      "cell_type": "markdown",
      "metadata": {
        "id": "0wsN0D_FYXUM"
      },
      "source": [
        "*\"Halo xxxxx, Aku tadi habis didatangi debtcollector. Dia mengirimiku pesan lewat nomornya yaitu nomor_debtcollector dan email email_debtcollector. Dia bilang kamu jadiin nomorku dan emailku sebagai penanggungjawab. Bisa tolong jelasin? Terus aku tadi juga sempet foto motor yg dipake mas debtcollector. Plat nomornya** plat_nomor_debtcollector**.\"*"
      ]
    },
    {
      "cell_type": "code",
      "execution_count": null,
      "metadata": {
        "id": "eNhEgiIvYa5e"
      },
      "outputs": [],
      "source": [
        "import re"
      ]
    },
    {
      "cell_type": "code",
      "execution_count": null,
      "metadata": {
        "colab": {
          "base_uri": "https://localhost:8080/"
        },
        "id": "NrAEeUvGbnE3",
        "outputId": "78a923d8-1b0f-475f-8d72-71407fd304b2"
      },
      "outputs": [
        {
          "output_type": "stream",
          "name": "stdout",
          "text": [
            "Halo xxxxx, Aku tadi habis didatangi debtcollector. Dia mengirimiku pesan lewat nomornya yaitu 08004398499 dan email debtcollector@pinjolninuninu.com \n",
            "Dia bilang kamu jadiin nomorku dan emailku sebagai penanggungjawab. Bisa tolong jelasin? Terus aku tadi \n",
            "juga sempet foto motor yg dipake mas debtcollector. Plat nomornya PO 3030 AY.\n"
          ]
        }
      ],
      "source": [
        "phone_pattern = re.compile(r'(\\d{3}[-\\.\\s]??\\d{3}[-\\.\\s]??\\d{4,6}|\\(\\d{3}\\)\\s*\\d{3}[-\\.\\s]??\\d{4,6}|\\d{3,4}[-\\.\\s]??\\d{4,6})')\n",
        "txt = '08004398499'\n",
        "notelp = re.findall(phone_pattern, txt)\n",
        "for i in notelp:\n",
        "  notelp = i\n",
        "\n",
        "email_pattern = re.compile(r'[\\w._%+-]+@[\\w\\.-]+\\.[a-zA-Z]{2,4}')\n",
        "txt = 'debtcollector@pinjolninuninu.com'\n",
        "email = re.findall(email_pattern, txt)\n",
        "for y in email:\n",
        "  email = y\n",
        "\n",
        "plat_pattern = re.compile(r'[A-Z]{1,2}\\s\\d{1,4}\\s[A-Z]{1,3}')\n",
        "txt = 'PO 3030 AY'\n",
        "plat_kendaraan= re.findall(plat_pattern, txt)\n",
        "for x in plat_kendaraan:\n",
        "  plat_kendaraan = x\n",
        "\n",
        "print(\"Halo xxxxx, Aku tadi habis didatangi debtcollector. Dia mengirimiku pesan lewat nomornya yaitu\", notelp, \"dan email\", email, \"\\nDia bilang kamu jadiin nomorku dan emailku sebagai penanggungjawab. Bisa tolong jelasin? Terus aku tadi \\njuga sempet foto motor yg dipake mas debtcollector. Plat nomornya\", str(plat_kendaraan)+\".\")"
      ]
    }
  ],
  "metadata": {
    "colab": {
      "provenance": [],
      "include_colab_link": true
    },
    "kernelspec": {
      "display_name": "Python 3",
      "name": "python3"
    },
    "language_info": {
      "name": "python"
    }
  },
  "nbformat": 4,
  "nbformat_minor": 0
}